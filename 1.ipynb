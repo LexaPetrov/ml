{
 "cells": [
  {
   "cell_type": "code",
   "execution_count": 291,
   "metadata": {},
   "outputs": [],
   "source": [
    "import numpy as np\n",
    "import pandas as pd\n"
   ]
  },
  {
   "cell_type": "code",
   "execution_count": 292,
   "metadata": {},
   "outputs": [],
   "source": [
    "np.set_printoptions(precision=2)"
   ]
  },
  {
   "cell_type": "code",
   "execution_count": 293,
   "metadata": {},
   "outputs": [],
   "source": [
    "data = pd.read_csv('beauty.csv', sep=';')"
   ]
  },
  {
   "cell_type": "code",
   "execution_count": 294,
   "metadata": {},
   "outputs": [
    {
     "data": {
      "text/plain": "pandas.core.frame.DataFrame"
     },
     "execution_count": 294,
     "metadata": {},
     "output_type": "execute_result"
    }
   ],
   "source": [
    "type(data)"
   ]
  },
  {
   "cell_type": "code",
   "execution_count": 295,
   "metadata": {},
   "outputs": [
    {
     "data": {
      "text/html": "<div>\n<style scoped>\n    .dataframe tbody tr th:only-of-type {\n        vertical-align: middle;\n    }\n\n    .dataframe tbody tr th {\n        vertical-align: top;\n    }\n\n    .dataframe thead th {\n        text-align: right;\n    }\n</style>\n<table border=\"1\" class=\"dataframe\">\n  <thead>\n    <tr style=\"text-align: right;\">\n      <th></th>\n      <th>wage</th>\n      <th>exper</th>\n      <th>union</th>\n      <th>goodhlth</th>\n      <th>black</th>\n      <th>female</th>\n      <th>married</th>\n      <th>service</th>\n      <th>educ</th>\n      <th>looks</th>\n    </tr>\n  </thead>\n  <tbody>\n    <tr>\n      <td>0</td>\n      <td>5.73</td>\n      <td>30</td>\n      <td>0</td>\n      <td>1</td>\n      <td>0</td>\n      <td>1</td>\n      <td>1</td>\n      <td>1</td>\n      <td>14</td>\n      <td>4</td>\n    </tr>\n    <tr>\n      <td>1</td>\n      <td>4.28</td>\n      <td>28</td>\n      <td>0</td>\n      <td>1</td>\n      <td>0</td>\n      <td>1</td>\n      <td>1</td>\n      <td>0</td>\n      <td>12</td>\n      <td>3</td>\n    </tr>\n    <tr>\n      <td>2</td>\n      <td>7.96</td>\n      <td>35</td>\n      <td>0</td>\n      <td>1</td>\n      <td>0</td>\n      <td>1</td>\n      <td>0</td>\n      <td>0</td>\n      <td>10</td>\n      <td>4</td>\n    </tr>\n    <tr>\n      <td>3</td>\n      <td>11.57</td>\n      <td>38</td>\n      <td>0</td>\n      <td>1</td>\n      <td>0</td>\n      <td>0</td>\n      <td>1</td>\n      <td>1</td>\n      <td>16</td>\n      <td>3</td>\n    </tr>\n    <tr>\n      <td>4</td>\n      <td>11.42</td>\n      <td>27</td>\n      <td>0</td>\n      <td>1</td>\n      <td>0</td>\n      <td>0</td>\n      <td>1</td>\n      <td>0</td>\n      <td>16</td>\n      <td>3</td>\n    </tr>\n  </tbody>\n</table>\n</div>",
      "text/plain": "    wage  exper  union  goodhlth  black  female  married  service  educ  looks\n0   5.73     30      0         1      0       1        1        1    14      4\n1   4.28     28      0         1      0       1        1        0    12      3\n2   7.96     35      0         1      0       1        0        0    10      4\n3  11.57     38      0         1      0       0        1        1    16      3\n4  11.42     27      0         1      0       0        1        0    16      3"
     },
     "execution_count": 295,
     "metadata": {},
     "output_type": "execute_result"
    }
   ],
   "source": [
    "data.head()"
   ]
  },
  {
   "cell_type": "code",
   "execution_count": 296,
   "metadata": {},
   "outputs": [
    {
     "data": {
      "text/plain": "(1260, 10)"
     },
     "execution_count": 296,
     "metadata": {},
     "output_type": "execute_result"
    }
   ],
   "source": [
    "data.shape"
   ]
  },
  {
   "cell_type": "code",
   "execution_count": 297,
   "metadata": {},
   "outputs": [
    {
     "name": "stdout",
     "output_type": "stream",
     "text": "<class 'pandas.core.frame.DataFrame'>\nRangeIndex: 1260 entries, 0 to 1259\nData columns (total 10 columns):\nwage        1260 non-null float64\nexper       1260 non-null int64\nunion       1260 non-null int64\ngoodhlth    1260 non-null int64\nblack       1260 non-null int64\nfemale      1260 non-null int64\nmarried     1260 non-null int64\nservice     1260 non-null int64\neduc        1260 non-null int64\nlooks       1260 non-null int64\ndtypes: float64(1), int64(9)\nmemory usage: 98.6 KB\n"
    }
   ],
   "source": [
    "data.info()"
   ]
  },
  {
   "cell_type": "code",
   "execution_count": 298,
   "metadata": {},
   "outputs": [
    {
     "data": {
      "text/html": "<div>\n<style scoped>\n    .dataframe tbody tr th:only-of-type {\n        vertical-align: middle;\n    }\n\n    .dataframe tbody tr th {\n        vertical-align: top;\n    }\n\n    .dataframe thead th {\n        text-align: right;\n    }\n</style>\n<table border=\"1\" class=\"dataframe\">\n  <thead>\n    <tr style=\"text-align: right;\">\n      <th></th>\n      <th>wage</th>\n      <th>exper</th>\n      <th>union</th>\n      <th>goodhlth</th>\n      <th>black</th>\n      <th>female</th>\n      <th>married</th>\n      <th>service</th>\n      <th>educ</th>\n      <th>looks</th>\n    </tr>\n  </thead>\n  <tbody>\n    <tr>\n      <td>count</td>\n      <td>1260.000000</td>\n      <td>1260.000000</td>\n      <td>1260.000000</td>\n      <td>1260.000000</td>\n      <td>1260.000000</td>\n      <td>1260.000000</td>\n      <td>1260.000000</td>\n      <td>1260.000000</td>\n      <td>1260.000000</td>\n      <td>1260.000000</td>\n    </tr>\n    <tr>\n      <td>mean</td>\n      <td>6.306690</td>\n      <td>18.206349</td>\n      <td>0.272222</td>\n      <td>0.933333</td>\n      <td>0.073810</td>\n      <td>0.346032</td>\n      <td>0.691270</td>\n      <td>0.273810</td>\n      <td>12.563492</td>\n      <td>3.185714</td>\n    </tr>\n    <tr>\n      <td>std</td>\n      <td>4.660639</td>\n      <td>11.963485</td>\n      <td>0.445280</td>\n      <td>0.249543</td>\n      <td>0.261564</td>\n      <td>0.475892</td>\n      <td>0.462153</td>\n      <td>0.446089</td>\n      <td>2.624489</td>\n      <td>0.684877</td>\n    </tr>\n    <tr>\n      <td>min</td>\n      <td>1.020000</td>\n      <td>0.000000</td>\n      <td>0.000000</td>\n      <td>0.000000</td>\n      <td>0.000000</td>\n      <td>0.000000</td>\n      <td>0.000000</td>\n      <td>0.000000</td>\n      <td>5.000000</td>\n      <td>1.000000</td>\n    </tr>\n    <tr>\n      <td>25%</td>\n      <td>3.707500</td>\n      <td>8.000000</td>\n      <td>0.000000</td>\n      <td>1.000000</td>\n      <td>0.000000</td>\n      <td>0.000000</td>\n      <td>0.000000</td>\n      <td>0.000000</td>\n      <td>12.000000</td>\n      <td>3.000000</td>\n    </tr>\n    <tr>\n      <td>50%</td>\n      <td>5.300000</td>\n      <td>15.000000</td>\n      <td>0.000000</td>\n      <td>1.000000</td>\n      <td>0.000000</td>\n      <td>0.000000</td>\n      <td>1.000000</td>\n      <td>0.000000</td>\n      <td>12.000000</td>\n      <td>3.000000</td>\n    </tr>\n    <tr>\n      <td>75%</td>\n      <td>7.695000</td>\n      <td>27.000000</td>\n      <td>1.000000</td>\n      <td>1.000000</td>\n      <td>0.000000</td>\n      <td>1.000000</td>\n      <td>1.000000</td>\n      <td>1.000000</td>\n      <td>13.000000</td>\n      <td>4.000000</td>\n    </tr>\n    <tr>\n      <td>max</td>\n      <td>77.720000</td>\n      <td>48.000000</td>\n      <td>1.000000</td>\n      <td>1.000000</td>\n      <td>1.000000</td>\n      <td>1.000000</td>\n      <td>1.000000</td>\n      <td>1.000000</td>\n      <td>17.000000</td>\n      <td>5.000000</td>\n    </tr>\n  </tbody>\n</table>\n</div>",
      "text/plain": "              wage        exper        union     goodhlth        black  \\\ncount  1260.000000  1260.000000  1260.000000  1260.000000  1260.000000   \nmean      6.306690    18.206349     0.272222     0.933333     0.073810   \nstd       4.660639    11.963485     0.445280     0.249543     0.261564   \nmin       1.020000     0.000000     0.000000     0.000000     0.000000   \n25%       3.707500     8.000000     0.000000     1.000000     0.000000   \n50%       5.300000    15.000000     0.000000     1.000000     0.000000   \n75%       7.695000    27.000000     1.000000     1.000000     0.000000   \nmax      77.720000    48.000000     1.000000     1.000000     1.000000   \n\n            female      married      service         educ        looks  \ncount  1260.000000  1260.000000  1260.000000  1260.000000  1260.000000  \nmean      0.346032     0.691270     0.273810    12.563492     3.185714  \nstd       0.475892     0.462153     0.446089     2.624489     0.684877  \nmin       0.000000     0.000000     0.000000     5.000000     1.000000  \n25%       0.000000     0.000000     0.000000    12.000000     3.000000  \n50%       0.000000     1.000000     0.000000    12.000000     3.000000  \n75%       1.000000     1.000000     1.000000    13.000000     4.000000  \nmax       1.000000     1.000000     1.000000    17.000000     5.000000  "
     },
     "execution_count": 298,
     "metadata": {},
     "output_type": "execute_result"
    }
   ],
   "source": [
    "data.describe()"
   ]
  },
  {
   "cell_type": "code",
   "execution_count": 299,
   "metadata": {},
   "outputs": [
    {
     "data": {
      "text/plain": "0    30\n1    28\n2    35\n3    38\n4    27\nName: exper, dtype: int64"
     },
     "execution_count": 299,
     "metadata": {},
     "output_type": "execute_result"
    }
   ],
   "source": [
    "data['exper'].head()"
   ]
  },
  {
   "cell_type": "markdown",
   "execution_count": null,
   "metadata": {},
   "outputs": [],
   "source": [
    "# loc and iloc"
   ]
  },
  {
   "cell_type": "code",
   "execution_count": 300,
   "metadata": {},
   "outputs": [
    {
     "data": {
      "text/html": "<div>\n<style scoped>\n    .dataframe tbody tr th:only-of-type {\n        vertical-align: middle;\n    }\n\n    .dataframe tbody tr th {\n        vertical-align: top;\n    }\n\n    .dataframe thead th {\n        text-align: right;\n    }\n</style>\n<table border=\"1\" class=\"dataframe\">\n  <thead>\n    <tr style=\"text-align: right;\">\n      <th></th>\n      <th>wage</th>\n      <th>female</th>\n    </tr>\n  </thead>\n  <tbody>\n    <tr>\n      <td>0</td>\n      <td>5.73</td>\n      <td>1</td>\n    </tr>\n    <tr>\n      <td>1</td>\n      <td>4.28</td>\n      <td>1</td>\n    </tr>\n    <tr>\n      <td>2</td>\n      <td>7.96</td>\n      <td>1</td>\n    </tr>\n    <tr>\n      <td>3</td>\n      <td>11.57</td>\n      <td>0</td>\n    </tr>\n    <tr>\n      <td>4</td>\n      <td>11.42</td>\n      <td>0</td>\n    </tr>\n    <tr>\n      <td>5</td>\n      <td>3.91</td>\n      <td>1</td>\n    </tr>\n  </tbody>\n</table>\n</div>",
      "text/plain": "    wage  female\n0   5.73       1\n1   4.28       1\n2   7.96       1\n3  11.57       0\n4  11.42       0\n5   3.91       1"
     },
     "execution_count": 300,
     "metadata": {},
     "output_type": "execute_result"
    }
   ],
   "source": [
    "data.loc[0:5, ['wage', 'female']]"
   ]
  },
  {
   "cell_type": "code",
   "execution_count": 301,
   "metadata": {},
   "outputs": [
    {
     "data": {
      "text/html": "<div>\n<style scoped>\n    .dataframe tbody tr th:only-of-type {\n        vertical-align: middle;\n    }\n\n    .dataframe tbody tr th {\n        vertical-align: top;\n    }\n\n    .dataframe thead th {\n        text-align: right;\n    }\n</style>\n<table border=\"1\" class=\"dataframe\">\n  <thead>\n    <tr style=\"text-align: right;\">\n      <th></th>\n      <th>union</th>\n      <th>goodhlth</th>\n    </tr>\n  </thead>\n  <tbody>\n    <tr>\n      <td>0</td>\n      <td>0</td>\n      <td>1</td>\n    </tr>\n    <tr>\n      <td>1</td>\n      <td>0</td>\n      <td>1</td>\n    </tr>\n    <tr>\n      <td>2</td>\n      <td>0</td>\n      <td>1</td>\n    </tr>\n    <tr>\n      <td>3</td>\n      <td>0</td>\n      <td>1</td>\n    </tr>\n    <tr>\n      <td>4</td>\n      <td>0</td>\n      <td>1</td>\n    </tr>\n  </tbody>\n</table>\n</div>",
      "text/plain": "   union  goodhlth\n0      0         1\n1      0         1\n2      0         1\n3      0         1\n4      0         1"
     },
     "execution_count": 301,
     "metadata": {},
     "output_type": "execute_result"
    }
   ],
   "source": [
    "data.iloc[:,2:4].head()"
   ]
  },
  {
   "cell_type": "code",
   "execution_count": 302,
   "metadata": {},
   "outputs": [
    {
     "data": {
      "text/html": "<div>\n<style scoped>\n    .dataframe tbody tr th:only-of-type {\n        vertical-align: middle;\n    }\n\n    .dataframe tbody tr th {\n        vertical-align: top;\n    }\n\n    .dataframe thead th {\n        text-align: right;\n    }\n</style>\n<table border=\"1\" class=\"dataframe\">\n  <thead>\n    <tr style=\"text-align: right;\">\n      <th></th>\n      <th>wage</th>\n      <th>exper</th>\n      <th>union</th>\n      <th>goodhlth</th>\n      <th>black</th>\n      <th>female</th>\n      <th>married</th>\n      <th>service</th>\n      <th>educ</th>\n      <th>looks</th>\n    </tr>\n  </thead>\n  <tbody>\n    <tr>\n      <td>count</td>\n      <td>1260.000000</td>\n      <td>1260.000000</td>\n      <td>1260.000000</td>\n      <td>1260.000000</td>\n      <td>1260.000000</td>\n      <td>1260.000000</td>\n      <td>1260.000000</td>\n      <td>1260.000000</td>\n      <td>1260.000000</td>\n      <td>1260.000000</td>\n    </tr>\n    <tr>\n      <td>mean</td>\n      <td>6.306690</td>\n      <td>18.206349</td>\n      <td>0.272222</td>\n      <td>0.933333</td>\n      <td>0.073810</td>\n      <td>0.346032</td>\n      <td>0.691270</td>\n      <td>0.273810</td>\n      <td>12.563492</td>\n      <td>3.185714</td>\n    </tr>\n    <tr>\n      <td>std</td>\n      <td>4.660639</td>\n      <td>11.963485</td>\n      <td>0.445280</td>\n      <td>0.249543</td>\n      <td>0.261564</td>\n      <td>0.475892</td>\n      <td>0.462153</td>\n      <td>0.446089</td>\n      <td>2.624489</td>\n      <td>0.684877</td>\n    </tr>\n    <tr>\n      <td>min</td>\n      <td>1.020000</td>\n      <td>0.000000</td>\n      <td>0.000000</td>\n      <td>0.000000</td>\n      <td>0.000000</td>\n      <td>0.000000</td>\n      <td>0.000000</td>\n      <td>0.000000</td>\n      <td>5.000000</td>\n      <td>1.000000</td>\n    </tr>\n    <tr>\n      <td>25%</td>\n      <td>3.707500</td>\n      <td>8.000000</td>\n      <td>0.000000</td>\n      <td>1.000000</td>\n      <td>0.000000</td>\n      <td>0.000000</td>\n      <td>0.000000</td>\n      <td>0.000000</td>\n      <td>12.000000</td>\n      <td>3.000000</td>\n    </tr>\n    <tr>\n      <td>50%</td>\n      <td>5.300000</td>\n      <td>15.000000</td>\n      <td>0.000000</td>\n      <td>1.000000</td>\n      <td>0.000000</td>\n      <td>0.000000</td>\n      <td>1.000000</td>\n      <td>0.000000</td>\n      <td>12.000000</td>\n      <td>3.000000</td>\n    </tr>\n    <tr>\n      <td>75%</td>\n      <td>7.695000</td>\n      <td>27.000000</td>\n      <td>1.000000</td>\n      <td>1.000000</td>\n      <td>0.000000</td>\n      <td>1.000000</td>\n      <td>1.000000</td>\n      <td>1.000000</td>\n      <td>13.000000</td>\n      <td>4.000000</td>\n    </tr>\n    <tr>\n      <td>max</td>\n      <td>77.720000</td>\n      <td>48.000000</td>\n      <td>1.000000</td>\n      <td>1.000000</td>\n      <td>1.000000</td>\n      <td>1.000000</td>\n      <td>1.000000</td>\n      <td>1.000000</td>\n      <td>17.000000</td>\n      <td>5.000000</td>\n    </tr>\n  </tbody>\n</table>\n</div>",
      "text/plain": "              wage        exper        union     goodhlth        black  \\\ncount  1260.000000  1260.000000  1260.000000  1260.000000  1260.000000   \nmean      6.306690    18.206349     0.272222     0.933333     0.073810   \nstd       4.660639    11.963485     0.445280     0.249543     0.261564   \nmin       1.020000     0.000000     0.000000     0.000000     0.000000   \n25%       3.707500     8.000000     0.000000     1.000000     0.000000   \n50%       5.300000    15.000000     0.000000     1.000000     0.000000   \n75%       7.695000    27.000000     1.000000     1.000000     0.000000   \nmax      77.720000    48.000000     1.000000     1.000000     1.000000   \n\n            female      married      service         educ        looks  \ncount  1260.000000  1260.000000  1260.000000  1260.000000  1260.000000  \nmean      0.346032     0.691270     0.273810    12.563492     3.185714  \nstd       0.475892     0.462153     0.446089     2.624489     0.684877  \nmin       0.000000     0.000000     0.000000     5.000000     1.000000  \n25%       0.000000     0.000000     0.000000    12.000000     3.000000  \n50%       0.000000     1.000000     0.000000    12.000000     3.000000  \n75%       1.000000     1.000000     1.000000    13.000000     4.000000  \nmax       1.000000     1.000000     1.000000    17.000000     5.000000  "
     },
     "execution_count": 302,
     "metadata": {},
     "output_type": "execute_result"
    }
   ],
   "source": [
    "data.describe()"
   ]
  },
  {
   "cell_type": "code",
   "execution_count": 303,
   "metadata": {},
   "outputs": [
    {
     "data": {
      "text/plain": "(4.299357798165136, 7.3688228155339734)"
     },
     "execution_count": 303,
     "metadata": {},
     "output_type": "execute_result"
    }
   ],
   "source": [
    "data[data.female == 1].wage.mean(), \\\n",
    "data[data.female == 0].wage.mean()"
   ]
  },
  {
   "cell_type": "code",
   "execution_count": 304,
   "metadata": {},
   "outputs": [
    {
     "data": {
      "text/plain": "(6.710000000000001, 5.0649999999999995)"
     },
     "execution_count": 304,
     "metadata": {},
     "output_type": "execute_result"
    }
   ],
   "source": [
    "data[(data.female == 0) & (data.married == 1)].wage.median(), \\\n",
    "data[(data.female == 0) & (data.married == 0)].wage.median() "
   ]
  },
  {
   "cell_type": "code",
   "execution_count": null,
   "metadata": {},
   "outputs": [],
   "source": []
  },
  {
   "cell_type": "code",
   "execution_count": 305,
   "metadata": {},
   "outputs": [
    {
     "name": "stdout",
     "output_type": "stream",
     "text": "(1, 0)\n(1, 1)\n(2, 0)\n(2, 1)\n(3, 0)\n(3, 1)\n(4, 0)\n(4, 1)\n(5, 0)\n(5, 1)\n"
    }
   ],
   "source": [
    "for look, sub_df in data.groupby(['looks', 'female']):\n",
    "    print(look)\n",
    "\n",
    "    # print(sub_df.wage.median())\n",
    "    # print(sub_df.female.mean())"
   ]
  },
  {
   "cell_type": "code",
   "execution_count": 306,
   "metadata": {},
   "outputs": [
    {
     "data": {
      "text/html": "<div>\n<style scoped>\n    .dataframe tbody tr th:only-of-type {\n        vertical-align: middle;\n    }\n\n    .dataframe tbody tr th {\n        vertical-align: top;\n    }\n\n    .dataframe thead th {\n        text-align: right;\n    }\n</style>\n<table border=\"1\" class=\"dataframe\">\n  <thead>\n    <tr style=\"text-align: right;\">\n      <th></th>\n      <th>wage</th>\n      <th>exper</th>\n    </tr>\n    <tr>\n      <th>looks</th>\n      <th></th>\n      <th></th>\n    </tr>\n  </thead>\n  <tbody>\n    <tr>\n      <td>1</td>\n      <td>3.460</td>\n      <td>32.0</td>\n    </tr>\n    <tr>\n      <td>2</td>\n      <td>4.595</td>\n      <td>18.0</td>\n    </tr>\n    <tr>\n      <td>3</td>\n      <td>5.635</td>\n      <td>18.0</td>\n    </tr>\n    <tr>\n      <td>4</td>\n      <td>5.240</td>\n      <td>12.5</td>\n    </tr>\n    <tr>\n      <td>5</td>\n      <td>4.810</td>\n      <td>8.0</td>\n    </tr>\n  </tbody>\n</table>\n</div>",
      "text/plain": "        wage  exper\nlooks              \n1      3.460   32.0\n2      4.595   18.0\n3      5.635   18.0\n4      5.240   12.5\n5      4.810    8.0"
     },
     "execution_count": 306,
     "metadata": {},
     "output_type": "execute_result"
    }
   ],
   "source": [
    "data.groupby('looks')[['wage', 'exper']].agg(np.median)"
   ]
  },
  {
   "cell_type": "code",
   "execution_count": 307,
   "metadata": {},
   "outputs": [
    {
     "data": {
      "text/html": "<div>\n<style scoped>\n    .dataframe tbody tr th:only-of-type {\n        vertical-align: middle;\n    }\n\n    .dataframe tbody tr th {\n        vertical-align: top;\n    }\n\n    .dataframe thead th {\n        text-align: right;\n    }\n</style>\n<table border=\"1\" class=\"dataframe\">\n  <thead>\n    <tr style=\"text-align: right;\">\n      <th>married</th>\n      <th>0</th>\n      <th>1</th>\n    </tr>\n    <tr>\n      <th>female</th>\n      <th></th>\n      <th></th>\n    </tr>\n  </thead>\n  <tbody>\n    <tr>\n      <td>0</td>\n      <td>166</td>\n      <td>658</td>\n    </tr>\n    <tr>\n      <td>1</td>\n      <td>223</td>\n      <td>213</td>\n    </tr>\n  </tbody>\n</table>\n</div>",
      "text/plain": "married    0    1\nfemale           \n0        166  658\n1        223  213"
     },
     "execution_count": 307,
     "metadata": {},
     "output_type": "execute_result"
    }
   ],
   "source": [
    "pd.crosstab(data.female, data.married)"
   ]
  },
  {
   "cell_type": "code",
   "execution_count": 308,
   "metadata": {},
   "outputs": [
    {
     "data": {
      "text/html": "<div>\n<style scoped>\n    .dataframe tbody tr th:only-of-type {\n        vertical-align: middle;\n    }\n\n    .dataframe tbody tr th {\n        vertical-align: top;\n    }\n\n    .dataframe thead th {\n        text-align: right;\n    }\n</style>\n<table border=\"1\" class=\"dataframe\">\n  <thead>\n    <tr style=\"text-align: right;\">\n      <th>looks</th>\n      <th>1</th>\n      <th>2</th>\n      <th>3</th>\n      <th>4</th>\n      <th>5</th>\n    </tr>\n    <tr>\n      <th>female</th>\n      <th></th>\n      <th></th>\n      <th></th>\n      <th></th>\n      <th></th>\n    </tr>\n  </thead>\n  <tbody>\n    <tr>\n      <td>0</td>\n      <td>8</td>\n      <td>88</td>\n      <td>489</td>\n      <td>228</td>\n      <td>11</td>\n    </tr>\n    <tr>\n      <td>1</td>\n      <td>5</td>\n      <td>54</td>\n      <td>233</td>\n      <td>136</td>\n      <td>8</td>\n    </tr>\n  </tbody>\n</table>\n</div>",
      "text/plain": "looks   1   2    3    4   5\nfemale                     \n0       8  88  489  228  11\n1       5  54  233  136   8"
     },
     "execution_count": 308,
     "metadata": {},
     "output_type": "execute_result"
    }
   ],
   "source": [
    "pd.crosstab(data.female, data.looks)"
   ]
  },
  {
   "cell_type": "code",
   "execution_count": 309,
   "metadata": {},
   "outputs": [
    {
     "data": {
      "text/plain": "count    1260.000000\nmean        6.306690\nstd         4.660639\nmin         1.020000\n25%         3.707500\n50%         5.300000\n75%         7.695000\nmax        77.720000\nName: wage, dtype: float64"
     },
     "execution_count": 309,
     "metadata": {},
     "output_type": "execute_result"
    }
   ],
   "source": [
    "data.wage.describe()"
   ]
  },
  {
   "cell_type": "code",
   "execution_count": 310,
   "metadata": {},
   "outputs": [],
   "source": [
    "data['is_rich'] = data['wage'] > data['wage'].quantile(.75)"
   ]
  },
  {
   "cell_type": "code",
   "execution_count": 311,
   "metadata": {},
   "outputs": [
    {
     "data": {
      "text/html": "<div>\n<style scoped>\n    .dataframe tbody tr th:only-of-type {\n        vertical-align: middle;\n    }\n\n    .dataframe tbody tr th {\n        vertical-align: top;\n    }\n\n    .dataframe thead th {\n        text-align: right;\n    }\n</style>\n<table border=\"1\" class=\"dataframe\">\n  <thead>\n    <tr style=\"text-align: right;\">\n      <th></th>\n      <th>wage</th>\n      <th>exper</th>\n      <th>union</th>\n      <th>goodhlth</th>\n      <th>black</th>\n      <th>female</th>\n      <th>married</th>\n      <th>service</th>\n      <th>educ</th>\n      <th>looks</th>\n      <th>is_rich</th>\n    </tr>\n  </thead>\n  <tbody>\n    <tr>\n      <td>0</td>\n      <td>5.73</td>\n      <td>30</td>\n      <td>0</td>\n      <td>1</td>\n      <td>0</td>\n      <td>1</td>\n      <td>1</td>\n      <td>1</td>\n      <td>14</td>\n      <td>4</td>\n      <td>False</td>\n    </tr>\n    <tr>\n      <td>1</td>\n      <td>4.28</td>\n      <td>28</td>\n      <td>0</td>\n      <td>1</td>\n      <td>0</td>\n      <td>1</td>\n      <td>1</td>\n      <td>0</td>\n      <td>12</td>\n      <td>3</td>\n      <td>False</td>\n    </tr>\n    <tr>\n      <td>2</td>\n      <td>7.96</td>\n      <td>35</td>\n      <td>0</td>\n      <td>1</td>\n      <td>0</td>\n      <td>1</td>\n      <td>0</td>\n      <td>0</td>\n      <td>10</td>\n      <td>4</td>\n      <td>True</td>\n    </tr>\n    <tr>\n      <td>3</td>\n      <td>11.57</td>\n      <td>38</td>\n      <td>0</td>\n      <td>1</td>\n      <td>0</td>\n      <td>0</td>\n      <td>1</td>\n      <td>1</td>\n      <td>16</td>\n      <td>3</td>\n      <td>True</td>\n    </tr>\n    <tr>\n      <td>4</td>\n      <td>11.42</td>\n      <td>27</td>\n      <td>0</td>\n      <td>1</td>\n      <td>0</td>\n      <td>0</td>\n      <td>1</td>\n      <td>0</td>\n      <td>16</td>\n      <td>3</td>\n      <td>True</td>\n    </tr>\n  </tbody>\n</table>\n</div>",
      "text/plain": "    wage  exper  union  goodhlth  black  female  married  service  educ  \\\n0   5.73     30      0         1      0       1        1        1    14   \n1   4.28     28      0         1      0       1        1        0    12   \n2   7.96     35      0         1      0       1        0        0    10   \n3  11.57     38      0         1      0       0        1        1    16   \n4  11.42     27      0         1      0       0        1        0    16   \n\n   looks  is_rich  \n0      4    False  \n1      3    False  \n2      4     True  \n3      3     True  \n4      3     True  "
     },
     "execution_count": 311,
     "metadata": {},
     "output_type": "execute_result"
    }
   ],
   "source": [
    "data.head()"
   ]
  },
  {
   "cell_type": "code",
   "execution_count": 312,
   "metadata": {},
   "outputs": [
    {
     "data": {
      "text/plain": "0       0\n1       0\n2       1\n3       1\n4       1\n       ..\n1255    0\n1256    0\n1257    0\n1258    0\n1259    0\nName: wage, Length: 1260, dtype: int64"
     },
     "execution_count": 312,
     "metadata": {},
     "output_type": "execute_result"
    }
   ],
   "source": [
    "(data['wage'] > data['wage'].quantile(.75)).astype('int64')"
   ]
  },
  {
   "cell_type": "code",
   "execution_count": 313,
   "metadata": {},
   "outputs": [],
   "source": [
    "data['rubbish'] = .56 * data['wage'] + .32 * data['exper']"
   ]
  },
  {
   "cell_type": "code",
   "execution_count": 314,
   "metadata": {},
   "outputs": [
    {
     "data": {
      "text/html": "<div>\n<style scoped>\n    .dataframe tbody tr th:only-of-type {\n        vertical-align: middle;\n    }\n\n    .dataframe tbody tr th {\n        vertical-align: top;\n    }\n\n    .dataframe thead th {\n        text-align: right;\n    }\n</style>\n<table border=\"1\" class=\"dataframe\">\n  <thead>\n    <tr style=\"text-align: right;\">\n      <th></th>\n      <th>wage</th>\n      <th>exper</th>\n      <th>union</th>\n      <th>goodhlth</th>\n      <th>black</th>\n      <th>female</th>\n      <th>married</th>\n      <th>service</th>\n      <th>educ</th>\n      <th>looks</th>\n      <th>rubbish</th>\n    </tr>\n  </thead>\n  <tbody>\n    <tr>\n      <td>count</td>\n      <td>1260.000000</td>\n      <td>1260.000000</td>\n      <td>1260.000000</td>\n      <td>1260.000000</td>\n      <td>1260.000000</td>\n      <td>1260.000000</td>\n      <td>1260.000000</td>\n      <td>1260.000000</td>\n      <td>1260.000000</td>\n      <td>1260.000000</td>\n      <td>1260.000000</td>\n    </tr>\n    <tr>\n      <td>mean</td>\n      <td>6.306690</td>\n      <td>18.206349</td>\n      <td>0.272222</td>\n      <td>0.933333</td>\n      <td>0.073810</td>\n      <td>0.346032</td>\n      <td>0.691270</td>\n      <td>0.273810</td>\n      <td>12.563492</td>\n      <td>3.185714</td>\n      <td>9.357778</td>\n    </tr>\n    <tr>\n      <td>std</td>\n      <td>4.660639</td>\n      <td>11.963485</td>\n      <td>0.445280</td>\n      <td>0.249543</td>\n      <td>0.261564</td>\n      <td>0.475892</td>\n      <td>0.462153</td>\n      <td>0.446089</td>\n      <td>2.624489</td>\n      <td>0.684877</td>\n      <td>5.114357</td>\n    </tr>\n    <tr>\n      <td>min</td>\n      <td>1.020000</td>\n      <td>0.000000</td>\n      <td>0.000000</td>\n      <td>0.000000</td>\n      <td>0.000000</td>\n      <td>0.000000</td>\n      <td>0.000000</td>\n      <td>0.000000</td>\n      <td>5.000000</td>\n      <td>1.000000</td>\n      <td>0.711200</td>\n    </tr>\n    <tr>\n      <td>25%</td>\n      <td>3.707500</td>\n      <td>8.000000</td>\n      <td>0.000000</td>\n      <td>1.000000</td>\n      <td>0.000000</td>\n      <td>0.000000</td>\n      <td>0.000000</td>\n      <td>0.000000</td>\n      <td>12.000000</td>\n      <td>3.000000</td>\n      <td>5.250800</td>\n    </tr>\n    <tr>\n      <td>50%</td>\n      <td>5.300000</td>\n      <td>15.000000</td>\n      <td>0.000000</td>\n      <td>1.000000</td>\n      <td>0.000000</td>\n      <td>0.000000</td>\n      <td>1.000000</td>\n      <td>0.000000</td>\n      <td>12.000000</td>\n      <td>3.000000</td>\n      <td>8.663600</td>\n    </tr>\n    <tr>\n      <td>75%</td>\n      <td>7.695000</td>\n      <td>27.000000</td>\n      <td>1.000000</td>\n      <td>1.000000</td>\n      <td>0.000000</td>\n      <td>1.000000</td>\n      <td>1.000000</td>\n      <td>1.000000</td>\n      <td>13.000000</td>\n      <td>4.000000</td>\n      <td>12.832000</td>\n    </tr>\n    <tr>\n      <td>max</td>\n      <td>77.720000</td>\n      <td>48.000000</td>\n      <td>1.000000</td>\n      <td>1.000000</td>\n      <td>1.000000</td>\n      <td>1.000000</td>\n      <td>1.000000</td>\n      <td>1.000000</td>\n      <td>17.000000</td>\n      <td>5.000000</td>\n      <td>46.403200</td>\n    </tr>\n  </tbody>\n</table>\n</div>",
      "text/plain": "              wage        exper        union     goodhlth        black  \\\ncount  1260.000000  1260.000000  1260.000000  1260.000000  1260.000000   \nmean      6.306690    18.206349     0.272222     0.933333     0.073810   \nstd       4.660639    11.963485     0.445280     0.249543     0.261564   \nmin       1.020000     0.000000     0.000000     0.000000     0.000000   \n25%       3.707500     8.000000     0.000000     1.000000     0.000000   \n50%       5.300000    15.000000     0.000000     1.000000     0.000000   \n75%       7.695000    27.000000     1.000000     1.000000     0.000000   \nmax      77.720000    48.000000     1.000000     1.000000     1.000000   \n\n            female      married      service         educ        looks  \\\ncount  1260.000000  1260.000000  1260.000000  1260.000000  1260.000000   \nmean      0.346032     0.691270     0.273810    12.563492     3.185714   \nstd       0.475892     0.462153     0.446089     2.624489     0.684877   \nmin       0.000000     0.000000     0.000000     5.000000     1.000000   \n25%       0.000000     0.000000     0.000000    12.000000     3.000000   \n50%       0.000000     1.000000     0.000000    12.000000     3.000000   \n75%       1.000000     1.000000     1.000000    13.000000     4.000000   \nmax       1.000000     1.000000     1.000000    17.000000     5.000000   \n\n           rubbish  \ncount  1260.000000  \nmean      9.357778  \nstd       5.114357  \nmin       0.711200  \n25%       5.250800  \n50%       8.663600  \n75%      12.832000  \nmax      46.403200  "
     },
     "execution_count": 314,
     "metadata": {},
     "output_type": "execute_result"
    }
   ],
   "source": [
    "data.describe()"
   ]
  },
  {
   "cell_type": "code",
   "execution_count": 315,
   "metadata": {},
   "outputs": [
    {
     "data": {
      "text/html": "<div>\n<style scoped>\n    .dataframe tbody tr th:only-of-type {\n        vertical-align: middle;\n    }\n\n    .dataframe tbody tr th {\n        vertical-align: top;\n    }\n\n    .dataframe thead th {\n        text-align: right;\n    }\n</style>\n<table border=\"1\" class=\"dataframe\">\n  <thead>\n    <tr style=\"text-align: right;\">\n      <th></th>\n      <th>wage</th>\n      <th>exper</th>\n      <th>union</th>\n      <th>goodhlth</th>\n      <th>black</th>\n      <th>female</th>\n      <th>married</th>\n      <th>service</th>\n      <th>educ</th>\n      <th>looks</th>\n      <th>is_rich</th>\n      <th>rubbish</th>\n    </tr>\n  </thead>\n  <tbody>\n    <tr>\n      <td>0</td>\n      <td>5.73</td>\n      <td>30</td>\n      <td>0</td>\n      <td>1</td>\n      <td>0</td>\n      <td>1</td>\n      <td>1</td>\n      <td>1</td>\n      <td>14</td>\n      <td>4</td>\n      <td>False</td>\n      <td>12.8088</td>\n    </tr>\n    <tr>\n      <td>1</td>\n      <td>4.28</td>\n      <td>28</td>\n      <td>0</td>\n      <td>1</td>\n      <td>0</td>\n      <td>1</td>\n      <td>1</td>\n      <td>0</td>\n      <td>12</td>\n      <td>3</td>\n      <td>False</td>\n      <td>11.3568</td>\n    </tr>\n    <tr>\n      <td>2</td>\n      <td>7.96</td>\n      <td>35</td>\n      <td>0</td>\n      <td>1</td>\n      <td>0</td>\n      <td>1</td>\n      <td>0</td>\n      <td>0</td>\n      <td>10</td>\n      <td>4</td>\n      <td>True</td>\n      <td>15.6576</td>\n    </tr>\n    <tr>\n      <td>3</td>\n      <td>11.57</td>\n      <td>38</td>\n      <td>0</td>\n      <td>1</td>\n      <td>0</td>\n      <td>0</td>\n      <td>1</td>\n      <td>1</td>\n      <td>16</td>\n      <td>3</td>\n      <td>True</td>\n      <td>18.6392</td>\n    </tr>\n    <tr>\n      <td>4</td>\n      <td>11.42</td>\n      <td>27</td>\n      <td>0</td>\n      <td>1</td>\n      <td>0</td>\n      <td>0</td>\n      <td>1</td>\n      <td>0</td>\n      <td>16</td>\n      <td>3</td>\n      <td>True</td>\n      <td>15.0352</td>\n    </tr>\n  </tbody>\n</table>\n</div>",
      "text/plain": "    wage  exper  union  goodhlth  black  female  married  service  educ  \\\n0   5.73     30      0         1      0       1        1        1    14   \n1   4.28     28      0         1      0       1        1        0    12   \n2   7.96     35      0         1      0       1        0        0    10   \n3  11.57     38      0         1      0       0        1        1    16   \n4  11.42     27      0         1      0       0        1        0    16   \n\n   looks  is_rich  rubbish  \n0      4    False  12.8088  \n1      3    False  11.3568  \n2      4     True  15.6576  \n3      3     True  18.6392  \n4      3     True  15.0352  "
     },
     "execution_count": 315,
     "metadata": {},
     "output_type": "execute_result"
    }
   ],
   "source": [
    "data.head()"
   ]
  },
  {
   "cell_type": "code",
   "execution_count": 321,
   "metadata": {},
   "outputs": [],
   "source": [
    "dic = {1: 'union', 0: 'non-union'}"
   ]
  },
  {
   "cell_type": "code",
   "execution_count": 322,
   "metadata": {},
   "outputs": [
    {
     "data": {
      "text/plain": "0    non-union\n1    non-union\n2    non-union\n3    non-union\n4    non-union\nName: union, dtype: object"
     },
     "execution_count": 322,
     "metadata": {},
     "output_type": "execute_result"
    }
   ],
   "source": [
    "data['union'].map(dic).head()"
   ]
  },
  {
   "cell_type": "code",
   "execution_count": 318,
   "metadata": {},
   "outputs": [
    {
     "data": {
      "text/plain": "0       female\n1       female\n2       female\n3         male\n4         male\n         ...  \n1255    female\n1256    female\n1257    female\n1258    female\n1259    female\nName: female, Length: 1260, dtype: object"
     },
     "execution_count": 318,
     "metadata": {},
     "output_type": "execute_result"
    }
   ],
   "source": [
    "data['female'].apply(lambda female: 'female' if female else 'male')"
   ]
  },
  {
   "cell_type": "code",
   "execution_count": 324,
   "metadata": {},
   "outputs": [
    {
     "name": "stdout",
     "output_type": "stream",
     "text": "wage  exper  union  goodhlth  black  female  married  service  educ  \\\n0   5.73     30      0         1      0       1        1        1    14   \n1   4.28     28      0         1      0       1        1        0    12   \n2   7.96     35      0         1      0       1        0        0    10   \n3  11.57     38      0         1      0       0        1        1    16   \n4  11.42     27      0         1      0       0        1        0    16   \n\n   looks  is_rich  rubbish  \n0      4    False  12.8088  \n1      3    False  11.3568  \n2      4     True  15.6576  \n3      3     True  18.6392  \n4      3     True  15.0352  \n"
    }
   ],
   "source": [
    "print(data.head())"
   ]
  },
  {
   "cell_type": "code",
   "execution_count": 327,
   "metadata": {},
   "outputs": [
    {
     "name": "stdout",
     "output_type": "stream",
     "text": "Index(['wage', 'exper', 'union', 'goodhlth', 'black', 'female', 'married',\n       'service', 'educ', 'looks', 'is_rich', 'rubbish'],\n      dtype='object')\n"
    }
   ],
   "source": [
    "print(data.columns)"
   ]
  },
  {
   "cell_type": "code",
   "execution_count": 334,
   "metadata": {},
   "outputs": [
    {
     "data": {
      "text/plain": "<bound method IndexOpsMixin.value_counts of 0       1\n1       1\n2       1\n3       0\n4       0\n       ..\n1255    1\n1256    1\n1257    1\n1258    1\n1259    1\nName: female, Length: 1260, dtype: int64>"
     },
     "execution_count": 334,
     "metadata": {},
     "output_type": "execute_result"
    }
   ],
   "source": [
    "data.female.value_counts"
   ]
  },
  {
   "cell_type": "code",
   "execution_count": null,
   "metadata": {},
   "outputs": [],
   "source": []
  }
 ],
 "metadata": {
  "file_extension": ".py",
  "kernelspec": {
   "display_name": "Python 3.7.4 64-bit ('anaconda3': virtualenv)",
   "language": "python",
   "name": "python37464bitanaconda3virtualenv35d0a1cac2124ad6a2ad7713884bcf7b"
  },
  "language_info": {
   "codemirror_mode": {
    "name": "ipython",
    "version": 3
   },
   "file_extension": ".py",
   "mimetype": "text/x-python",
   "name": "python",
   "nbconvert_exporter": "python",
   "pygments_lexer": "ipython3",
   "version": "3.7.4-final"
  },
  "mimetype": "text/x-python",
  "name": "python",
  "npconvert_exporter": "python",
  "pygments_lexer": "ipython3",
  "version": 3
 },
 "nbformat": 4,
 "nbformat_minor": 2
}