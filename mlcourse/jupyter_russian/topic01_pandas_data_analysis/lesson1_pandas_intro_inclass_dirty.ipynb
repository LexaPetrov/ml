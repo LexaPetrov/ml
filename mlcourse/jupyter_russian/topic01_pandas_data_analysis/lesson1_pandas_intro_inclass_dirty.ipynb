{
 "cells": [
  {
   "cell_type": "code",
   "execution_count": 2,
   "metadata": {},
   "outputs": [],
   "source": [
    "import numpy as np\n",
    "import pandas as pd"
   ]
  },
  {
   "cell_type": "code",
   "execution_count": 3,
   "metadata": {},
   "outputs": [],
   "source": [
    "np.set_printoptions(precision=2)"
   ]
  },
  {
   "cell_type": "markdown",
   "metadata": {},
   "source": [
    "**Считываем данные из файла**"
   ]
  },
  {
   "cell_type": "code",
   "execution_count": 4,
   "metadata": {},
   "outputs": [],
   "source": [
    "data = pd.read_csv('../../data/beauty.csv', sep=';')"
   ]
  },
  {
   "cell_type": "code",
   "execution_count": 5,
   "metadata": {},
   "outputs": [
    {
     "output_type": "execute_result",
     "data": {
      "text/plain": "pandas.core.frame.DataFrame"
     },
     "metadata": {},
     "execution_count": 5
    }
   ],
   "source": [
    "type(data)"
   ]
  },
  {
   "cell_type": "markdown",
   "metadata": {},
   "source": [
    "**Смотрим на первые 5 строк**"
   ]
  },
  {
   "cell_type": "code",
   "execution_count": 6,
   "metadata": {},
   "outputs": [
    {
     "output_type": "execute_result",
     "data": {
      "text/plain": "    wage  exper  union  goodhlth  black  female  married  service  educ  looks\n0   5.73     30      0         1      0       1        1        1    14      4\n1   4.28     28      0         1      0       1        1        0    12      3\n2   7.96     35      0         1      0       1        0        0    10      4\n3  11.57     38      0         1      0       0        1        1    16      3\n4  11.42     27      0         1      0       0        1        0    16      3",
      "text/html": "<div>\n<style scoped>\n    .dataframe tbody tr th:only-of-type {\n        vertical-align: middle;\n    }\n\n    .dataframe tbody tr th {\n        vertical-align: top;\n    }\n\n    .dataframe thead th {\n        text-align: right;\n    }\n</style>\n<table border=\"1\" class=\"dataframe\">\n  <thead>\n    <tr style=\"text-align: right;\">\n      <th></th>\n      <th>wage</th>\n      <th>exper</th>\n      <th>union</th>\n      <th>goodhlth</th>\n      <th>black</th>\n      <th>female</th>\n      <th>married</th>\n      <th>service</th>\n      <th>educ</th>\n      <th>looks</th>\n    </tr>\n  </thead>\n  <tbody>\n    <tr>\n      <td>0</td>\n      <td>5.73</td>\n      <td>30</td>\n      <td>0</td>\n      <td>1</td>\n      <td>0</td>\n      <td>1</td>\n      <td>1</td>\n      <td>1</td>\n      <td>14</td>\n      <td>4</td>\n    </tr>\n    <tr>\n      <td>1</td>\n      <td>4.28</td>\n      <td>28</td>\n      <td>0</td>\n      <td>1</td>\n      <td>0</td>\n      <td>1</td>\n      <td>1</td>\n      <td>0</td>\n      <td>12</td>\n      <td>3</td>\n    </tr>\n    <tr>\n      <td>2</td>\n      <td>7.96</td>\n      <td>35</td>\n      <td>0</td>\n      <td>1</td>\n      <td>0</td>\n      <td>1</td>\n      <td>0</td>\n      <td>0</td>\n      <td>10</td>\n      <td>4</td>\n    </tr>\n    <tr>\n      <td>3</td>\n      <td>11.57</td>\n      <td>38</td>\n      <td>0</td>\n      <td>1</td>\n      <td>0</td>\n      <td>0</td>\n      <td>1</td>\n      <td>1</td>\n      <td>16</td>\n      <td>3</td>\n    </tr>\n    <tr>\n      <td>4</td>\n      <td>11.42</td>\n      <td>27</td>\n      <td>0</td>\n      <td>1</td>\n      <td>0</td>\n      <td>0</td>\n      <td>1</td>\n      <td>0</td>\n      <td>16</td>\n      <td>3</td>\n    </tr>\n  </tbody>\n</table>\n</div>"
     },
     "metadata": {},
     "execution_count": 6
    }
   ],
   "source": [
    "data.head()"
   ]
  },
  {
   "cell_type": "code",
   "execution_count": 7,
   "metadata": {},
   "outputs": [
    {
     "output_type": "execute_result",
     "data": {
      "text/plain": "(1260, 10)"
     },
     "metadata": {},
     "execution_count": 7
    }
   ],
   "source": [
    "data.shape"
   ]
  },
  {
   "cell_type": "markdown",
   "metadata": {},
   "source": [
    "**Краткая статистика – info и describe**"
   ]
  },
  {
   "cell_type": "code",
   "execution_count": 8,
   "metadata": {},
   "outputs": [
    {
     "output_type": "stream",
     "name": "stdout",
     "text": "<class 'pandas.core.frame.DataFrame'>\nRangeIndex: 1260 entries, 0 to 1259\nData columns (total 10 columns):\nwage        1260 non-null float64\nexper       1260 non-null int64\nunion       1260 non-null int64\ngoodhlth    1260 non-null int64\nblack       1260 non-null int64\nfemale      1260 non-null int64\nmarried     1260 non-null int64\nservice     1260 non-null int64\neduc        1260 non-null int64\nlooks       1260 non-null int64\ndtypes: float64(1), int64(9)\nmemory usage: 98.6 KB\n"
    }
   ],
   "source": [
    "data.info()"
   ]
  },
  {
   "cell_type": "code",
   "execution_count": 9,
   "metadata": {},
   "outputs": [
    {
     "output_type": "execute_result",
     "data": {
      "text/plain": "              wage        exper        union     goodhlth        black  \\\ncount  1260.000000  1260.000000  1260.000000  1260.000000  1260.000000   \nmean      6.306690    18.206349     0.272222     0.933333     0.073810   \nstd       4.660639    11.963485     0.445280     0.249543     0.261564   \nmin       1.020000     0.000000     0.000000     0.000000     0.000000   \n25%       3.707500     8.000000     0.000000     1.000000     0.000000   \n50%       5.300000    15.000000     0.000000     1.000000     0.000000   \n75%       7.695000    27.000000     1.000000     1.000000     0.000000   \nmax      77.720000    48.000000     1.000000     1.000000     1.000000   \n\n            female      married      service         educ        looks  \ncount  1260.000000  1260.000000  1260.000000  1260.000000  1260.000000  \nmean      0.346032     0.691270     0.273810    12.563492     3.185714  \nstd       0.475892     0.462153     0.446089     2.624489     0.684877  \nmin       0.000000     0.000000     0.000000     5.000000     1.000000  \n25%       0.000000     0.000000     0.000000    12.000000     3.000000  \n50%       0.000000     1.000000     0.000000    12.000000     3.000000  \n75%       1.000000     1.000000     1.000000    13.000000     4.000000  \nmax       1.000000     1.000000     1.000000    17.000000     5.000000  ",
      "text/html": "<div>\n<style scoped>\n    .dataframe tbody tr th:only-of-type {\n        vertical-align: middle;\n    }\n\n    .dataframe tbody tr th {\n        vertical-align: top;\n    }\n\n    .dataframe thead th {\n        text-align: right;\n    }\n</style>\n<table border=\"1\" class=\"dataframe\">\n  <thead>\n    <tr style=\"text-align: right;\">\n      <th></th>\n      <th>wage</th>\n      <th>exper</th>\n      <th>union</th>\n      <th>goodhlth</th>\n      <th>black</th>\n      <th>female</th>\n      <th>married</th>\n      <th>service</th>\n      <th>educ</th>\n      <th>looks</th>\n    </tr>\n  </thead>\n  <tbody>\n    <tr>\n      <td>count</td>\n      <td>1260.000000</td>\n      <td>1260.000000</td>\n      <td>1260.000000</td>\n      <td>1260.000000</td>\n      <td>1260.000000</td>\n      <td>1260.000000</td>\n      <td>1260.000000</td>\n      <td>1260.000000</td>\n      <td>1260.000000</td>\n      <td>1260.000000</td>\n    </tr>\n    <tr>\n      <td>mean</td>\n      <td>6.306690</td>\n      <td>18.206349</td>\n      <td>0.272222</td>\n      <td>0.933333</td>\n      <td>0.073810</td>\n      <td>0.346032</td>\n      <td>0.691270</td>\n      <td>0.273810</td>\n      <td>12.563492</td>\n      <td>3.185714</td>\n    </tr>\n    <tr>\n      <td>std</td>\n      <td>4.660639</td>\n      <td>11.963485</td>\n      <td>0.445280</td>\n      <td>0.249543</td>\n      <td>0.261564</td>\n      <td>0.475892</td>\n      <td>0.462153</td>\n      <td>0.446089</td>\n      <td>2.624489</td>\n      <td>0.684877</td>\n    </tr>\n    <tr>\n      <td>min</td>\n      <td>1.020000</td>\n      <td>0.000000</td>\n      <td>0.000000</td>\n      <td>0.000000</td>\n      <td>0.000000</td>\n      <td>0.000000</td>\n      <td>0.000000</td>\n      <td>0.000000</td>\n      <td>5.000000</td>\n      <td>1.000000</td>\n    </tr>\n    <tr>\n      <td>25%</td>\n      <td>3.707500</td>\n      <td>8.000000</td>\n      <td>0.000000</td>\n      <td>1.000000</td>\n      <td>0.000000</td>\n      <td>0.000000</td>\n      <td>0.000000</td>\n      <td>0.000000</td>\n      <td>12.000000</td>\n      <td>3.000000</td>\n    </tr>\n    <tr>\n      <td>50%</td>\n      <td>5.300000</td>\n      <td>15.000000</td>\n      <td>0.000000</td>\n      <td>1.000000</td>\n      <td>0.000000</td>\n      <td>0.000000</td>\n      <td>1.000000</td>\n      <td>0.000000</td>\n      <td>12.000000</td>\n      <td>3.000000</td>\n    </tr>\n    <tr>\n      <td>75%</td>\n      <td>7.695000</td>\n      <td>27.000000</td>\n      <td>1.000000</td>\n      <td>1.000000</td>\n      <td>0.000000</td>\n      <td>1.000000</td>\n      <td>1.000000</td>\n      <td>1.000000</td>\n      <td>13.000000</td>\n      <td>4.000000</td>\n    </tr>\n    <tr>\n      <td>max</td>\n      <td>77.720000</td>\n      <td>48.000000</td>\n      <td>1.000000</td>\n      <td>1.000000</td>\n      <td>1.000000</td>\n      <td>1.000000</td>\n      <td>1.000000</td>\n      <td>1.000000</td>\n      <td>17.000000</td>\n      <td>5.000000</td>\n    </tr>\n  </tbody>\n</table>\n</div>"
     },
     "metadata": {},
     "execution_count": 9
    }
   ],
   "source": [
    "data.describe()"
   ]
  },
  {
   "cell_type": "markdown",
   "metadata": {},
   "source": [
    "**Индексация**"
   ]
  },
  {
   "cell_type": "code",
   "execution_count": 10,
   "metadata": {},
   "outputs": [
    {
     "output_type": "execute_result",
     "data": {
      "text/plain": "0    30\n1    28\n2    35\n3    38\n4    27\nName: exper, dtype: int64"
     },
     "metadata": {},
     "execution_count": 10
    }
   ],
   "source": [
    "data['exper'].head()"
   ]
  },
  {
   "cell_type": "markdown",
   "metadata": {},
   "source": [
    "**loc и iloc**"
   ]
  },
  {
   "cell_type": "code",
   "execution_count": 11,
   "metadata": {},
   "outputs": [
    {
     "output_type": "execute_result",
     "data": {
      "text/plain": "    wage  female\n0   5.73       1\n1   4.28       1\n2   7.96       1\n3  11.57       0\n4  11.42       0\n5   3.91       1",
      "text/html": "<div>\n<style scoped>\n    .dataframe tbody tr th:only-of-type {\n        vertical-align: middle;\n    }\n\n    .dataframe tbody tr th {\n        vertical-align: top;\n    }\n\n    .dataframe thead th {\n        text-align: right;\n    }\n</style>\n<table border=\"1\" class=\"dataframe\">\n  <thead>\n    <tr style=\"text-align: right;\">\n      <th></th>\n      <th>wage</th>\n      <th>female</th>\n    </tr>\n  </thead>\n  <tbody>\n    <tr>\n      <td>0</td>\n      <td>5.73</td>\n      <td>1</td>\n    </tr>\n    <tr>\n      <td>1</td>\n      <td>4.28</td>\n      <td>1</td>\n    </tr>\n    <tr>\n      <td>2</td>\n      <td>7.96</td>\n      <td>1</td>\n    </tr>\n    <tr>\n      <td>3</td>\n      <td>11.57</td>\n      <td>0</td>\n    </tr>\n    <tr>\n      <td>4</td>\n      <td>11.42</td>\n      <td>0</td>\n    </tr>\n    <tr>\n      <td>5</td>\n      <td>3.91</td>\n      <td>1</td>\n    </tr>\n  </tbody>\n</table>\n</div>"
     },
     "metadata": {},
     "execution_count": 11
    }
   ],
   "source": [
    "data.loc[0:5, ['wage', 'female']]"
   ]
  },
  {
   "cell_type": "code",
   "execution_count": 35,
   "metadata": {},
   "outputs": [
    {
     "output_type": "execute_result",
     "data": {
      "text/plain": "    wage  exper  union  goodhlth  black  female  married  service  educ  \\\n0   5.73     30      0         1      0       1        1        1    14   \n1   4.28     28      0         1      0       1        1        0    12   \n2   7.96     35      0         1      0       1        0        0    10   \n3  11.57     38      0         1      0       0        1        1    16   \n4  11.42     27      0         1      0       0        1        0    16   \n\n   looks  is_rich  rubbish  \n0      4        0  12.8088  \n1      3        0  11.3568  \n2      4        1  15.6576  \n3      3        1  18.6392  \n4      3        1  15.0352  ",
      "text/html": "<div>\n<style scoped>\n    .dataframe tbody tr th:only-of-type {\n        vertical-align: middle;\n    }\n\n    .dataframe tbody tr th {\n        vertical-align: top;\n    }\n\n    .dataframe thead th {\n        text-align: right;\n    }\n</style>\n<table border=\"1\" class=\"dataframe\">\n  <thead>\n    <tr style=\"text-align: right;\">\n      <th></th>\n      <th>wage</th>\n      <th>exper</th>\n      <th>union</th>\n      <th>goodhlth</th>\n      <th>black</th>\n      <th>female</th>\n      <th>married</th>\n      <th>service</th>\n      <th>educ</th>\n      <th>looks</th>\n      <th>is_rich</th>\n      <th>rubbish</th>\n    </tr>\n  </thead>\n  <tbody>\n    <tr>\n      <td>0</td>\n      <td>5.73</td>\n      <td>30</td>\n      <td>0</td>\n      <td>1</td>\n      <td>0</td>\n      <td>1</td>\n      <td>1</td>\n      <td>1</td>\n      <td>14</td>\n      <td>4</td>\n      <td>0</td>\n      <td>12.8088</td>\n    </tr>\n    <tr>\n      <td>1</td>\n      <td>4.28</td>\n      <td>28</td>\n      <td>0</td>\n      <td>1</td>\n      <td>0</td>\n      <td>1</td>\n      <td>1</td>\n      <td>0</td>\n      <td>12</td>\n      <td>3</td>\n      <td>0</td>\n      <td>11.3568</td>\n    </tr>\n    <tr>\n      <td>2</td>\n      <td>7.96</td>\n      <td>35</td>\n      <td>0</td>\n      <td>1</td>\n      <td>0</td>\n      <td>1</td>\n      <td>0</td>\n      <td>0</td>\n      <td>10</td>\n      <td>4</td>\n      <td>1</td>\n      <td>15.6576</td>\n    </tr>\n    <tr>\n      <td>3</td>\n      <td>11.57</td>\n      <td>38</td>\n      <td>0</td>\n      <td>1</td>\n      <td>0</td>\n      <td>0</td>\n      <td>1</td>\n      <td>1</td>\n      <td>16</td>\n      <td>3</td>\n      <td>1</td>\n      <td>18.6392</td>\n    </tr>\n    <tr>\n      <td>4</td>\n      <td>11.42</td>\n      <td>27</td>\n      <td>0</td>\n      <td>1</td>\n      <td>0</td>\n      <td>0</td>\n      <td>1</td>\n      <td>0</td>\n      <td>16</td>\n      <td>3</td>\n      <td>1</td>\n      <td>15.0352</td>\n    </tr>\n  </tbody>\n</table>\n</div>"
     },
     "metadata": {},
     "execution_count": 35
    }
   ],
   "source": [
    "data.iloc[:,:].head()"
   ]
  },
  {
   "cell_type": "markdown",
   "metadata": {},
   "source": [
    "**Логическая индексация**"
   ]
  },
  {
   "cell_type": "code",
   "execution_count": 13,
   "metadata": {},
   "outputs": [
    {
     "output_type": "execute_result",
     "data": {
      "text/plain": "(4.299357798165136, 7.3688228155339734)"
     },
     "metadata": {},
     "execution_count": 13
    }
   ],
   "source": [
    "data[data['female'] == 1]['wage'].mean(), \\\n",
    "data[data['female'] == 0]['wage'].mean()"
   ]
  },
  {
   "cell_type": "code",
   "execution_count": 14,
   "metadata": {},
   "outputs": [
    {
     "output_type": "execute_result",
     "data": {
      "text/plain": "(6.710000000000001, 5.0649999999999995)"
     },
     "metadata": {},
     "execution_count": 14
    }
   ],
   "source": [
    "data[(data['female'] == 0) & (data['married'] == 1)]['wage'].median(), \\\n",
    "data[(data['female'] == 0) & (data['married'] == 0)]['wage'].median()"
   ]
  },
  {
   "cell_type": "markdown",
   "metadata": {
    "collapsed": true
   },
   "source": [
    "**Groupby**"
   ]
  },
  {
   "cell_type": "code",
   "execution_count": 15,
   "metadata": {},
   "outputs": [
    {
     "output_type": "stream",
     "name": "stdout",
     "text": "1\n0.8461538461538461\n2\n0.9366197183098591\n3\n0.9210526315789473\n4\n0.9560439560439561\n5\n1.0\n"
    }
   ],
   "source": [
    "for look, sub_df in data.groupby('looks'):\n",
    "    print(look)\n",
    "    \n",
    "    # что угодно\n",
    "    print(sub_df['goodhlth'].mean())"
   ]
  },
  {
   "cell_type": "code",
   "execution_count": 38,
   "metadata": {},
   "outputs": [
    {
     "output_type": "execute_result",
     "data": {
      "text/plain": "       exper   wage\nlooks              \n1       32.0  3.460\n2       18.0  4.595\n3       18.0  5.635\n4       12.5  5.240\n5        8.0  4.810",
      "text/html": "<div>\n<style scoped>\n    .dataframe tbody tr th:only-of-type {\n        vertical-align: middle;\n    }\n\n    .dataframe tbody tr th {\n        vertical-align: top;\n    }\n\n    .dataframe thead th {\n        text-align: right;\n    }\n</style>\n<table border=\"1\" class=\"dataframe\">\n  <thead>\n    <tr style=\"text-align: right;\">\n      <th></th>\n      <th>exper</th>\n      <th>wage</th>\n    </tr>\n    <tr>\n      <th>looks</th>\n      <th></th>\n      <th></th>\n    </tr>\n  </thead>\n  <tbody>\n    <tr>\n      <td>1</td>\n      <td>32.0</td>\n      <td>3.460</td>\n    </tr>\n    <tr>\n      <td>2</td>\n      <td>18.0</td>\n      <td>4.595</td>\n    </tr>\n    <tr>\n      <td>3</td>\n      <td>18.0</td>\n      <td>5.635</td>\n    </tr>\n    <tr>\n      <td>4</td>\n      <td>12.5</td>\n      <td>5.240</td>\n    </tr>\n    <tr>\n      <td>5</td>\n      <td>8.0</td>\n      <td>4.810</td>\n    </tr>\n  </tbody>\n</table>\n</div>"
     },
     "metadata": {},
     "execution_count": 38
    }
   ],
   "source": [
    "data.groupby('looks')[['exper', 'wage']].agg(np.median)"
   ]
  },
  {
   "cell_type": "markdown",
   "metadata": {},
   "source": [
    "**Сводная таблица**"
   ]
  },
  {
   "cell_type": "code",
   "execution_count": 17,
   "metadata": {},
   "outputs": [
    {
     "output_type": "execute_result",
     "data": {
      "text/plain": "married    0    1\nfemale           \n0        166  658\n1        223  213",
      "text/html": "<div>\n<style scoped>\n    .dataframe tbody tr th:only-of-type {\n        vertical-align: middle;\n    }\n\n    .dataframe tbody tr th {\n        vertical-align: top;\n    }\n\n    .dataframe thead th {\n        text-align: right;\n    }\n</style>\n<table border=\"1\" class=\"dataframe\">\n  <thead>\n    <tr style=\"text-align: right;\">\n      <th>married</th>\n      <th>0</th>\n      <th>1</th>\n    </tr>\n    <tr>\n      <th>female</th>\n      <th></th>\n      <th></th>\n    </tr>\n  </thead>\n  <tbody>\n    <tr>\n      <td>0</td>\n      <td>166</td>\n      <td>658</td>\n    </tr>\n    <tr>\n      <td>1</td>\n      <td>223</td>\n      <td>213</td>\n    </tr>\n  </tbody>\n</table>\n</div>"
     },
     "metadata": {},
     "execution_count": 17
    }
   ],
   "source": [
    "pd.crosstab(data['female'], data['married'])"
   ]
  },
  {
   "cell_type": "code",
   "execution_count": 18,
   "metadata": {},
   "outputs": [
    {
     "output_type": "execute_result",
     "data": {
      "text/plain": "looks   1   2    3    4   5\nfemale                     \n0       8  88  489  228  11\n1       5  54  233  136   8",
      "text/html": "<div>\n<style scoped>\n    .dataframe tbody tr th:only-of-type {\n        vertical-align: middle;\n    }\n\n    .dataframe tbody tr th {\n        vertical-align: top;\n    }\n\n    .dataframe thead th {\n        text-align: right;\n    }\n</style>\n<table border=\"1\" class=\"dataframe\">\n  <thead>\n    <tr style=\"text-align: right;\">\n      <th>looks</th>\n      <th>1</th>\n      <th>2</th>\n      <th>3</th>\n      <th>4</th>\n      <th>5</th>\n    </tr>\n    <tr>\n      <th>female</th>\n      <th></th>\n      <th></th>\n      <th></th>\n      <th></th>\n      <th></th>\n    </tr>\n  </thead>\n  <tbody>\n    <tr>\n      <td>0</td>\n      <td>8</td>\n      <td>88</td>\n      <td>489</td>\n      <td>228</td>\n      <td>11</td>\n    </tr>\n    <tr>\n      <td>1</td>\n      <td>5</td>\n      <td>54</td>\n      <td>233</td>\n      <td>136</td>\n      <td>8</td>\n    </tr>\n  </tbody>\n</table>\n</div>"
     },
     "metadata": {},
     "execution_count": 18
    }
   ],
   "source": [
    "pd.crosstab(data['female'], data['looks'])"
   ]
  },
  {
   "cell_type": "markdown",
   "metadata": {},
   "source": [
    "**Добавление столбцов (построение признаков)**"
   ]
  },
  {
   "cell_type": "code",
   "execution_count": 19,
   "metadata": {},
   "outputs": [],
   "source": [
    "data['is_rich'] = (data['wage'] > \n",
    "                   data['wage'].quantile(.75)).astype('int64')"
   ]
  },
  {
   "cell_type": "code",
   "execution_count": 20,
   "metadata": {},
   "outputs": [
    {
     "output_type": "execute_result",
     "data": {
      "text/plain": "    wage  exper  union  goodhlth  black  female  married  service  educ  \\\n0   5.73     30      0         1      0       1        1        1    14   \n1   4.28     28      0         1      0       1        1        0    12   \n2   7.96     35      0         1      0       1        0        0    10   \n3  11.57     38      0         1      0       0        1        1    16   \n4  11.42     27      0         1      0       0        1        0    16   \n\n   looks  is_rich  \n0      4        0  \n1      3        0  \n2      4        1  \n3      3        1  \n4      3        1  ",
      "text/html": "<div>\n<style scoped>\n    .dataframe tbody tr th:only-of-type {\n        vertical-align: middle;\n    }\n\n    .dataframe tbody tr th {\n        vertical-align: top;\n    }\n\n    .dataframe thead th {\n        text-align: right;\n    }\n</style>\n<table border=\"1\" class=\"dataframe\">\n  <thead>\n    <tr style=\"text-align: right;\">\n      <th></th>\n      <th>wage</th>\n      <th>exper</th>\n      <th>union</th>\n      <th>goodhlth</th>\n      <th>black</th>\n      <th>female</th>\n      <th>married</th>\n      <th>service</th>\n      <th>educ</th>\n      <th>looks</th>\n      <th>is_rich</th>\n    </tr>\n  </thead>\n  <tbody>\n    <tr>\n      <td>0</td>\n      <td>5.73</td>\n      <td>30</td>\n      <td>0</td>\n      <td>1</td>\n      <td>0</td>\n      <td>1</td>\n      <td>1</td>\n      <td>1</td>\n      <td>14</td>\n      <td>4</td>\n      <td>0</td>\n    </tr>\n    <tr>\n      <td>1</td>\n      <td>4.28</td>\n      <td>28</td>\n      <td>0</td>\n      <td>1</td>\n      <td>0</td>\n      <td>1</td>\n      <td>1</td>\n      <td>0</td>\n      <td>12</td>\n      <td>3</td>\n      <td>0</td>\n    </tr>\n    <tr>\n      <td>2</td>\n      <td>7.96</td>\n      <td>35</td>\n      <td>0</td>\n      <td>1</td>\n      <td>0</td>\n      <td>1</td>\n      <td>0</td>\n      <td>0</td>\n      <td>10</td>\n      <td>4</td>\n      <td>1</td>\n    </tr>\n    <tr>\n      <td>3</td>\n      <td>11.57</td>\n      <td>38</td>\n      <td>0</td>\n      <td>1</td>\n      <td>0</td>\n      <td>0</td>\n      <td>1</td>\n      <td>1</td>\n      <td>16</td>\n      <td>3</td>\n      <td>1</td>\n    </tr>\n    <tr>\n      <td>4</td>\n      <td>11.42</td>\n      <td>27</td>\n      <td>0</td>\n      <td>1</td>\n      <td>0</td>\n      <td>0</td>\n      <td>1</td>\n      <td>0</td>\n      <td>16</td>\n      <td>3</td>\n      <td>1</td>\n    </tr>\n  </tbody>\n</table>\n</div>"
     },
     "metadata": {},
     "execution_count": 20
    }
   ],
   "source": [
    "data.head()"
   ]
  },
  {
   "cell_type": "code",
   "execution_count": 21,
   "metadata": {},
   "outputs": [],
   "source": [
    "data['rubbish'] = .56 * data['wage'] + 0.32 * data['exper']"
   ]
  },
  {
   "cell_type": "markdown",
   "metadata": {
    "collapsed": true
   },
   "source": [
    "**map и apply**"
   ]
  },
  {
   "cell_type": "code",
   "execution_count": 22,
   "metadata": {},
   "outputs": [],
   "source": [
    "def string_gender(female):\n",
    "    return 'female' if female else 'male'"
   ]
  },
  {
   "cell_type": "code",
   "execution_count": 23,
   "metadata": {},
   "outputs": [],
   "source": [
    "d =  {1: 'union', 0: 'non-union'}"
   ]
  },
  {
   "cell_type": "code",
   "execution_count": 24,
   "metadata": {},
   "outputs": [
    {
     "output_type": "execute_result",
     "data": {
      "text/plain": "0    non-union\n1    non-union\n2    non-union\n3    non-union\n4    non-union\nName: union, dtype: object"
     },
     "metadata": {},
     "execution_count": 24
    }
   ],
   "source": [
    "data['union'].map(d).head()"
   ]
  },
  {
   "cell_type": "code",
   "execution_count": 25,
   "metadata": {},
   "outputs": [
    {
     "output_type": "execute_result",
     "data": {
      "text/plain": "0    female\n1    female\n2    female\n3      male\n4      male\nName: female, dtype: object"
     },
     "metadata": {},
     "execution_count": 25
    }
   ],
   "source": [
    "data['female'].apply(lambda female: 'female' if female else 'male').head()"
   ]
  }
 ],
 "metadata": {
  "kernelspec": {
   "display_name": "Python 3",
   "language": "python",
   "name": "python3"
  },
  "language_info": {
   "codemirror_mode": {
    "name": "ipython",
    "version": 3
   },
   "file_extension": ".py",
   "mimetype": "text/x-python",
   "name": "python",
   "nbconvert_exporter": "python",
   "pygments_lexer": "ipython3",
   "version": "2.7.16-final"
  }
 },
 "nbformat": 4,
 "nbformat_minor": 2
}