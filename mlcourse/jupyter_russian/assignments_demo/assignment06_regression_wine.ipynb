{
 "cells": [
  {
   "cell_type": "markdown",
   "metadata": {},
   "source": [
    "<center>\n",
    "<img src=\"../../img/ods_stickers.jpg\">\n",
    "## Открытый курс по машинному обучению\n",
    "<center>\n",
    "Автор материала: Юрий Кашницкий, программист-исследователь Mail.Ru Group <br> \n",
    "\n",
    "Материал распространяется на условиях лицензии [Creative Commons CC BY-NC-SA 4.0](https://creativecommons.org/licenses/by-nc-sa/4.0/). Можно использовать в любых целях (редактировать, поправлять и брать за основу), кроме коммерческих, но с обязательным упоминанием автора материала."
   ]
  },
  {
   "cell_type": "markdown",
   "metadata": {},
   "source": [
    "# <center>Домашнее задание 6 (демо). Линейная регрессия, Lasso и RF-регрессия в задаче по определению качества вина</center>\n",
    "<img src='../../img/wine_quality.jpg' width=30%>\n",
    "\n",
    "**Заполните пропущенный код и ответьте на вопросы в [онлайн-форме](https://docs.google.com/forms/d/1gsNxgkd0VqidZp4lh9mnCQnJw3b0IFR1C4WBES86J40).**"
   ]
  },
  {
   "cell_type": "code",
   "execution_count": 52,
   "metadata": {},
   "outputs": [],
   "source": [
    "# отключим всякие предупреждения Anaconda\n",
    "import warnings\n",
    "warnings.filterwarnings('ignore')\n",
    "import numpy as np\n",
    "import pandas as pd\n",
    "from sklearn.metrics.regression import mean_squared_error\n",
    "from sklearn.preprocessing import StandardScaler\n",
    "from sklearn.model_selection import GridSearchCV\n",
    "from sklearn.model_selection import cross_val_score, train_test_split\n",
    "from sklearn.linear_model import LinearRegression, LassoCV, Lasso\n",
    "from sklearn.ensemble import RandomForestRegressor"
   ]
  },
  {
   "cell_type": "markdown",
   "metadata": {},
   "source": [
    "**Будем работать с набором данных по качеству белого вина (репозиторий UCI).**\n",
    "**Загружаем данные.**"
   ]
  },
  {
   "cell_type": "code",
   "execution_count": 54,
   "metadata": {},
   "outputs": [],
   "source": [
    "data = pd.read_csv('../../data/winequality-white.csv', sep=';')"
   ]
  },
  {
   "cell_type": "code",
   "execution_count": 56,
   "metadata": {},
   "outputs": [
    {
     "output_type": "execute_result",
     "data": {
      "text/plain": "   fixed acidity  volatile acidity  citric acid  residual sugar  chlorides  \\\n0            7.0              0.27         0.36            20.7      0.045   \n1            6.3              0.30         0.34             1.6      0.049   \n2            8.1              0.28         0.40             6.9      0.050   \n3            7.2              0.23         0.32             8.5      0.058   \n4            7.2              0.23         0.32             8.5      0.058   \n\n   free sulfur dioxide  total sulfur dioxide  density    pH  sulphates  \\\n0                 45.0                 170.0   1.0010  3.00       0.45   \n1                 14.0                 132.0   0.9940  3.30       0.49   \n2                 30.0                  97.0   0.9951  3.26       0.44   \n3                 47.0                 186.0   0.9956  3.19       0.40   \n4                 47.0                 186.0   0.9956  3.19       0.40   \n\n   alcohol  quality  \n0      8.8        6  \n1      9.5        6  \n2     10.1        6  \n3      9.9        6  \n4      9.9        6  ",
      "text/html": "<div>\n<style scoped>\n    .dataframe tbody tr th:only-of-type {\n        vertical-align: middle;\n    }\n\n    .dataframe tbody tr th {\n        vertical-align: top;\n    }\n\n    .dataframe thead th {\n        text-align: right;\n    }\n</style>\n<table border=\"1\" class=\"dataframe\">\n  <thead>\n    <tr style=\"text-align: right;\">\n      <th></th>\n      <th>fixed acidity</th>\n      <th>volatile acidity</th>\n      <th>citric acid</th>\n      <th>residual sugar</th>\n      <th>chlorides</th>\n      <th>free sulfur dioxide</th>\n      <th>total sulfur dioxide</th>\n      <th>density</th>\n      <th>pH</th>\n      <th>sulphates</th>\n      <th>alcohol</th>\n      <th>quality</th>\n    </tr>\n  </thead>\n  <tbody>\n    <tr>\n      <td>0</td>\n      <td>7.0</td>\n      <td>0.27</td>\n      <td>0.36</td>\n      <td>20.7</td>\n      <td>0.045</td>\n      <td>45.0</td>\n      <td>170.0</td>\n      <td>1.0010</td>\n      <td>3.00</td>\n      <td>0.45</td>\n      <td>8.8</td>\n      <td>6</td>\n    </tr>\n    <tr>\n      <td>1</td>\n      <td>6.3</td>\n      <td>0.30</td>\n      <td>0.34</td>\n      <td>1.6</td>\n      <td>0.049</td>\n      <td>14.0</td>\n      <td>132.0</td>\n      <td>0.9940</td>\n      <td>3.30</td>\n      <td>0.49</td>\n      <td>9.5</td>\n      <td>6</td>\n    </tr>\n    <tr>\n      <td>2</td>\n      <td>8.1</td>\n      <td>0.28</td>\n      <td>0.40</td>\n      <td>6.9</td>\n      <td>0.050</td>\n      <td>30.0</td>\n      <td>97.0</td>\n      <td>0.9951</td>\n      <td>3.26</td>\n      <td>0.44</td>\n      <td>10.1</td>\n      <td>6</td>\n    </tr>\n    <tr>\n      <td>3</td>\n      <td>7.2</td>\n      <td>0.23</td>\n      <td>0.32</td>\n      <td>8.5</td>\n      <td>0.058</td>\n      <td>47.0</td>\n      <td>186.0</td>\n      <td>0.9956</td>\n      <td>3.19</td>\n      <td>0.40</td>\n      <td>9.9</td>\n      <td>6</td>\n    </tr>\n    <tr>\n      <td>4</td>\n      <td>7.2</td>\n      <td>0.23</td>\n      <td>0.32</td>\n      <td>8.5</td>\n      <td>0.058</td>\n      <td>47.0</td>\n      <td>186.0</td>\n      <td>0.9956</td>\n      <td>3.19</td>\n      <td>0.40</td>\n      <td>9.9</td>\n      <td>6</td>\n    </tr>\n  </tbody>\n</table>\n</div>"
     },
     "metadata": {},
     "execution_count": 56
    }
   ],
   "source": [
    "data.head()"
   ]
  },
  {
   "cell_type": "code",
   "execution_count": 58,
   "metadata": {},
   "outputs": [
    {
     "output_type": "stream",
     "name": "stdout",
     "text": "<class 'pandas.core.frame.DataFrame'>\nRangeIndex: 4898 entries, 0 to 4897\nData columns (total 12 columns):\nfixed acidity           4898 non-null float64\nvolatile acidity        4898 non-null float64\ncitric acid             4898 non-null float64\nresidual sugar          4898 non-null float64\nchlorides               4898 non-null float64\nfree sulfur dioxide     4898 non-null float64\ntotal sulfur dioxide    4898 non-null float64\ndensity                 4898 non-null float64\npH                      4898 non-null float64\nsulphates               4898 non-null float64\nalcohol                 4898 non-null float64\nquality                 4898 non-null int64\ndtypes: float64(11), int64(1)\nmemory usage: 459.3 KB\n"
    }
   ],
   "source": [
    "data.info()"
   ]
  },
  {
   "cell_type": "markdown",
   "metadata": {},
   "source": [
    "**Отделите целевой признак, разделите обучающую выборку в отношении 7:3 (30% - под оставленную выборку, пусть random_state=17) и отмасштабируйте данные с помощью StandardScaler.**"
   ]
  },
  {
   "cell_type": "code",
   "execution_count": 60,
   "metadata": {},
   "outputs": [],
   "source": [
    "y = data['quality']\n",
    "X = data.drop('quality', axis=1)\n",
    "\n",
    "X_train, X_holdout, y_train, y_holdout = train_test_split(X, y, test_size=0.3, \n",
    "                                                          random_state=17)\n",
    "scaler = StandardScaler()\n",
    "X_train_scaled = scaler.fit_transform(X_train)\n",
    "X_holdout_scaled = scaler.transform(X_holdout)"
   ]
  },
  {
   "cell_type": "markdown",
   "metadata": {},
   "source": [
    "## Линейная регрессия"
   ]
  },
  {
   "cell_type": "markdown",
   "metadata": {},
   "source": [
    "**Обучите простую линейную регрессию.**"
   ]
  },
  {
   "cell_type": "code",
   "execution_count": 61,
   "metadata": {},
   "outputs": [],
   "source": [
    "linreg = LinearRegression()\n",
    "linreg.fit(X_train_scaled, y_train);"
   ]
  },
  {
   "cell_type": "markdown",
   "metadata": {},
   "source": [
    "**<font color='red'>Вопрос 1:</font> Каковы среднеквадратичные ошибки линейной регрессии на обучающей и отложенной выборках?**"
   ]
  },
  {
   "cell_type": "code",
   "execution_count": 62,
   "metadata": {},
   "outputs": [
    {
     "output_type": "stream",
     "name": "stdout",
     "text": "Mean squared error (train): 0.558\nMean squared error (test): 0.584\n"
    }
   ],
   "source": [
    "print(\"Mean squared error (train): %.3f\" % mean_squared_error(y_train, linreg.predict(X_train_scaled)))\n",
    "print(\"Mean squared error (test): %.3f\" % mean_squared_error(y_holdout, linreg.predict(X_holdout_scaled)))"
   ]
  },
  {
   "cell_type": "markdown",
   "metadata": {},
   "source": [
    "**Посмотрите на коэффициенты модели и отранжируйте признаки по влиянию на качество вина (учтите, что большие по модулю отрицательные значения коэффициентов тоже говорят о сильном влиянии). Создайте для этого новый небольшой DataFrame.**<br>\n",
    "**<font color='red'>Вопрос 2:</font> Какой признак линейная регрессия считает наиболее сильно влияющим на качество вина?**"
   ]
  },
  {
   "cell_type": "code",
   "execution_count": 63,
   "metadata": {},
   "outputs": [
    {
     "output_type": "execute_result",
     "data": {
      "text/plain": "                          coef  coef_abs\ndensity              -0.665720  0.665720\nresidual sugar        0.538164  0.538164\nvolatile acidity     -0.192260  0.192260\npH                    0.150036  0.150036\nalcohol               0.129533  0.129533\nfixed acidity         0.097822  0.097822\nsulphates             0.062053  0.062053\nfree sulfur dioxide   0.042180  0.042180\ntotal sulfur dioxide  0.014304  0.014304\nchlorides             0.008127  0.008127\ncitric acid          -0.000183  0.000183",
      "text/html": "<div>\n<style scoped>\n    .dataframe tbody tr th:only-of-type {\n        vertical-align: middle;\n    }\n\n    .dataframe tbody tr th {\n        vertical-align: top;\n    }\n\n    .dataframe thead th {\n        text-align: right;\n    }\n</style>\n<table border=\"1\" class=\"dataframe\">\n  <thead>\n    <tr style=\"text-align: right;\">\n      <th></th>\n      <th>coef</th>\n      <th>coef_abs</th>\n    </tr>\n  </thead>\n  <tbody>\n    <tr>\n      <td>density</td>\n      <td>-0.665720</td>\n      <td>0.665720</td>\n    </tr>\n    <tr>\n      <td>residual sugar</td>\n      <td>0.538164</td>\n      <td>0.538164</td>\n    </tr>\n    <tr>\n      <td>volatile acidity</td>\n      <td>-0.192260</td>\n      <td>0.192260</td>\n    </tr>\n    <tr>\n      <td>pH</td>\n      <td>0.150036</td>\n      <td>0.150036</td>\n    </tr>\n    <tr>\n      <td>alcohol</td>\n      <td>0.129533</td>\n      <td>0.129533</td>\n    </tr>\n    <tr>\n      <td>fixed acidity</td>\n      <td>0.097822</td>\n      <td>0.097822</td>\n    </tr>\n    <tr>\n      <td>sulphates</td>\n      <td>0.062053</td>\n      <td>0.062053</td>\n    </tr>\n    <tr>\n      <td>free sulfur dioxide</td>\n      <td>0.042180</td>\n      <td>0.042180</td>\n    </tr>\n    <tr>\n      <td>total sulfur dioxide</td>\n      <td>0.014304</td>\n      <td>0.014304</td>\n    </tr>\n    <tr>\n      <td>chlorides</td>\n      <td>0.008127</td>\n      <td>0.008127</td>\n    </tr>\n    <tr>\n      <td>citric acid</td>\n      <td>-0.000183</td>\n      <td>0.000183</td>\n    </tr>\n  </tbody>\n</table>\n</div>"
     },
     "metadata": {},
     "execution_count": 63
    }
   ],
   "source": [
    "linreg_coef = pd.DataFrame({'coef': linreg.coef_, 'coef_abs': np.abs(linreg.coef_)},\n",
    "                          index=data.columns.drop('quality'))\n",
    "linreg_coef.sort_values(by='coef_abs', ascending=False)"
   ]
  },
  {
   "cell_type": "markdown",
   "metadata": {},
   "source": [
    "## Lasso-регрессия"
   ]
  },
  {
   "cell_type": "markdown",
   "metadata": {},
   "source": [
    "**Обучите Lasso-регрессию с небольшим коэффициентом $\\alpha = 0.01$ (слабая регуляризация). Пусть опять random_state=17.**"
   ]
  },
  {
   "cell_type": "code",
   "execution_count": 64,
   "metadata": {},
   "outputs": [
    {
     "output_type": "execute_result",
     "data": {
      "text/plain": "Lasso(alpha=0.01, copy_X=True, fit_intercept=True, max_iter=1000,\n      normalize=False, positive=False, precompute=False, random_state=17,\n      selection='cyclic', tol=0.0001, warm_start=False)"
     },
     "metadata": {},
     "execution_count": 64
    }
   ],
   "source": [
    "lasso1 = Lasso(alpha=0.01, random_state=17)\n",
    "lasso1.fit(X_train_scaled, y_train)"
   ]
  },
  {
   "cell_type": "markdown",
   "metadata": {},
   "source": [
    "**Посмотрите на коэффициенты модели и отранжируйте признаки по влиянию на качество вина. Какой признак \"отвалился\" первым, то есть наименее важен для объяснения целевого признака в модели Lasso?**"
   ]
  },
  {
   "cell_type": "code",
   "execution_count": 65,
   "metadata": {},
   "outputs": [
    {
     "output_type": "execute_result",
     "data": {
      "text/plain": "                          coef  coef_abs\nalcohol               0.322425  0.322425\nresidual sugar        0.256363  0.256363\ndensity              -0.235492  0.235492\nvolatile acidity     -0.188479  0.188479\npH                    0.067277  0.067277\nfree sulfur dioxide   0.043088  0.043088\nsulphates             0.029722  0.029722\nchlorides            -0.002747  0.002747\nfixed acidity        -0.000000  0.000000\ncitric acid          -0.000000  0.000000\ntotal sulfur dioxide -0.000000  0.000000",
      "text/html": "<div>\n<style scoped>\n    .dataframe tbody tr th:only-of-type {\n        vertical-align: middle;\n    }\n\n    .dataframe tbody tr th {\n        vertical-align: top;\n    }\n\n    .dataframe thead th {\n        text-align: right;\n    }\n</style>\n<table border=\"1\" class=\"dataframe\">\n  <thead>\n    <tr style=\"text-align: right;\">\n      <th></th>\n      <th>coef</th>\n      <th>coef_abs</th>\n    </tr>\n  </thead>\n  <tbody>\n    <tr>\n      <td>alcohol</td>\n      <td>0.322425</td>\n      <td>0.322425</td>\n    </tr>\n    <tr>\n      <td>residual sugar</td>\n      <td>0.256363</td>\n      <td>0.256363</td>\n    </tr>\n    <tr>\n      <td>density</td>\n      <td>-0.235492</td>\n      <td>0.235492</td>\n    </tr>\n    <tr>\n      <td>volatile acidity</td>\n      <td>-0.188479</td>\n      <td>0.188479</td>\n    </tr>\n    <tr>\n      <td>pH</td>\n      <td>0.067277</td>\n      <td>0.067277</td>\n    </tr>\n    <tr>\n      <td>free sulfur dioxide</td>\n      <td>0.043088</td>\n      <td>0.043088</td>\n    </tr>\n    <tr>\n      <td>sulphates</td>\n      <td>0.029722</td>\n      <td>0.029722</td>\n    </tr>\n    <tr>\n      <td>chlorides</td>\n      <td>-0.002747</td>\n      <td>0.002747</td>\n    </tr>\n    <tr>\n      <td>fixed acidity</td>\n      <td>-0.000000</td>\n      <td>0.000000</td>\n    </tr>\n    <tr>\n      <td>citric acid</td>\n      <td>-0.000000</td>\n      <td>0.000000</td>\n    </tr>\n    <tr>\n      <td>total sulfur dioxide</td>\n      <td>-0.000000</td>\n      <td>0.000000</td>\n    </tr>\n  </tbody>\n</table>\n</div>"
     },
     "metadata": {},
     "execution_count": 65
    }
   ],
   "source": [
    "lasso1_coef = pd.DataFrame({'coef': lasso1.coef_, 'coef_abs': np.abs(lasso1.coef_)},\n",
    "                          index=data.columns.drop('quality'))\n",
    "lasso1_coef.sort_values(by='coef_abs', ascending=False)"
   ]
  },
  {
   "cell_type": "markdown",
   "metadata": {},
   "source": [
    "**Теперь определите лучшее значение $\\alpha$ в процессе кросс-валидации 5-кратной кросс-валидации. Используйте LassoCV и random_state=17.**"
   ]
  },
  {
   "cell_type": "code",
   "execution_count": 66,
   "metadata": {},
   "outputs": [
    {
     "output_type": "execute_result",
     "data": {
      "text/plain": "LassoCV(alphas=array([1.00000000e-06, 1.09698580e-06, 1.20337784e-06, 1.32008840e-06,\n       1.44811823e-06, 1.58856513e-06, 1.74263339e-06, 1.91164408e-06,\n       2.09704640e-06, 2.30043012e-06, 2.52353917e-06, 2.76828663e-06,\n       3.03677112e-06, 3.33129479e-06, 3.65438307e-06, 4.00880633e-06,\n       4.39760361e-06, 4.82410870e-06, 5.29197874e-06, 5.80522552e-06,\n       6.36824994e-06, 6.98587975e-0...\n       3.61234270e+01, 3.96268864e+01, 4.34701316e+01, 4.76861170e+01,\n       5.23109931e+01, 5.73844165e+01, 6.29498899e+01, 6.90551352e+01,\n       7.57525026e+01, 8.30994195e+01, 9.11588830e+01, 1.00000000e+02]),\n        copy_X=True, cv=5, eps=0.001, fit_intercept=True, max_iter=1000,\n        n_alphas=100, n_jobs=None, normalize=False, positive=False,\n        precompute='auto', random_state=17, selection='cyclic', tol=0.0001,\n        verbose=False)"
     },
     "metadata": {},
     "execution_count": 66
    }
   ],
   "source": [
    "alphas = np.logspace(-6, 2, 200)\n",
    "lasso_cv = LassoCV(random_state=17, cv=5, alphas=alphas)\n",
    "lasso_cv.fit(X_train_scaled, y_train)"
   ]
  },
  {
   "cell_type": "code",
   "execution_count": 67,
   "metadata": {},
   "outputs": [
    {
     "output_type": "execute_result",
     "data": {
      "text/plain": "0.0002833096101839324"
     },
     "metadata": {},
     "execution_count": 67
    }
   ],
   "source": [
    "lasso_cv.alpha_"
   ]
  },
  {
   "cell_type": "markdown",
   "metadata": {},
   "source": [
    "**Выведите коэффициенты \"лучшего\" Lasso в порядке убывания влияния на качество вина. **<br>\n",
    "**<font color='red'>Вопрос 3:</font> Какой признак \"обнулился первым\" в настроенной модели LASSO?**"
   ]
  },
  {
   "cell_type": "code",
   "execution_count": 68,
   "metadata": {},
   "outputs": [
    {
     "output_type": "execute_result",
     "data": {
      "text/plain": "                          coef  coef_abs\ndensity              -0.648161  0.648161\nresidual sugar        0.526883  0.526883\nvolatile acidity     -0.192049  0.192049\npH                    0.146549  0.146549\nalcohol               0.137115  0.137115\nfixed acidity         0.093295  0.093295\nsulphates             0.060939  0.060939\nfree sulfur dioxide   0.042698  0.042698\ntotal sulfur dioxide  0.012969  0.012969\nchlorides             0.006933  0.006933\ncitric acid          -0.000000  0.000000",
      "text/html": "<div>\n<style scoped>\n    .dataframe tbody tr th:only-of-type {\n        vertical-align: middle;\n    }\n\n    .dataframe tbody tr th {\n        vertical-align: top;\n    }\n\n    .dataframe thead th {\n        text-align: right;\n    }\n</style>\n<table border=\"1\" class=\"dataframe\">\n  <thead>\n    <tr style=\"text-align: right;\">\n      <th></th>\n      <th>coef</th>\n      <th>coef_abs</th>\n    </tr>\n  </thead>\n  <tbody>\n    <tr>\n      <td>density</td>\n      <td>-0.648161</td>\n      <td>0.648161</td>\n    </tr>\n    <tr>\n      <td>residual sugar</td>\n      <td>0.526883</td>\n      <td>0.526883</td>\n    </tr>\n    <tr>\n      <td>volatile acidity</td>\n      <td>-0.192049</td>\n      <td>0.192049</td>\n    </tr>\n    <tr>\n      <td>pH</td>\n      <td>0.146549</td>\n      <td>0.146549</td>\n    </tr>\n    <tr>\n      <td>alcohol</td>\n      <td>0.137115</td>\n      <td>0.137115</td>\n    </tr>\n    <tr>\n      <td>fixed acidity</td>\n      <td>0.093295</td>\n      <td>0.093295</td>\n    </tr>\n    <tr>\n      <td>sulphates</td>\n      <td>0.060939</td>\n      <td>0.060939</td>\n    </tr>\n    <tr>\n      <td>free sulfur dioxide</td>\n      <td>0.042698</td>\n      <td>0.042698</td>\n    </tr>\n    <tr>\n      <td>total sulfur dioxide</td>\n      <td>0.012969</td>\n      <td>0.012969</td>\n    </tr>\n    <tr>\n      <td>chlorides</td>\n      <td>0.006933</td>\n      <td>0.006933</td>\n    </tr>\n    <tr>\n      <td>citric acid</td>\n      <td>-0.000000</td>\n      <td>0.000000</td>\n    </tr>\n  </tbody>\n</table>\n</div>"
     },
     "metadata": {},
     "execution_count": 68
    }
   ],
   "source": [
    "lasso_cv_coef = pd.DataFrame({'coef': lasso_cv.coef_, 'coef_abs': np.abs(lasso_cv.coef_)},\n",
    "                          index=data.columns.drop('quality'))\n",
    "lasso_cv_coef.sort_values(by='coef_abs', ascending=False)"
   ]
  },
  {
   "cell_type": "markdown",
   "metadata": {},
   "source": [
    "**Оцените среднеквадратичную ошибку модели на обучающей и тестовой выборках.**<br>\n",
    "**<font color='red'>Вопрос 4:</font> Каковы среднеквадратичные ошибки настроенной LASSO-регрессии на обучающей и отложенной выборках?**"
   ]
  },
  {
   "cell_type": "code",
   "execution_count": 69,
   "metadata": {},
   "outputs": [
    {
     "output_type": "stream",
     "name": "stdout",
     "text": "Mean squared error (train): 0.558\nMean squared error (test): 0.583\n"
    }
   ],
   "source": [
    "print(\"Mean squared error (train): %.3f\" % mean_squared_error(y_train, lasso_cv.predict(X_train_scaled)))\n",
    "print(\"Mean squared error (test): %.3f\" % mean_squared_error(y_holdout, lasso_cv.predict(X_holdout_scaled)))"
   ]
  },
  {
   "cell_type": "markdown",
   "metadata": {},
   "source": [
    "## Случайный лес"
   ]
  },
  {
   "cell_type": "markdown",
   "metadata": {},
   "source": [
    "**Обучите случайный лес с параметрами \"из коробки\", фиксируя только random_state=17.**"
   ]
  },
  {
   "cell_type": "code",
   "execution_count": 70,
   "metadata": {},
   "outputs": [
    {
     "output_type": "execute_result",
     "data": {
      "text/plain": "RandomForestRegressor(bootstrap=True, criterion='mse', max_depth=19,\n                      max_features=7, max_leaf_nodes=None,\n                      min_impurity_decrease=0.0, min_impurity_split=None,\n                      min_samples_leaf=1, min_samples_split=2,\n                      min_weight_fraction_leaf=0.0, n_estimators=10,\n                      n_jobs=None, oob_score=False, random_state=17, verbose=0,\n                      warm_start=False)"
     },
     "metadata": {},
     "execution_count": 70
    }
   ],
   "source": [
    "# forest = RandomForestRegressor(random_state=17)\n",
    "forest = RandomForestRegressor(random_state=17, max_depth=19, max_features=7, min_samples_leaf=1)\n",
    "forest.fit(X_train_scaled, y_train)"
   ]
  },
  {
   "cell_type": "markdown",
   "metadata": {},
   "source": [
    "**<font color='red'>Вопрос 5:</font> Каковы среднеквадратичные ошибки случайного леса на обучающей выборке, на кросс-валидации (cross_val_score с scoring='neg_mean_squared_error' и остальными параметрами по умолчанию) и на отложенной выборке?**"
   ]
  },
  {
   "cell_type": "code",
   "execution_count": 71,
   "metadata": {},
   "outputs": [
    {
     "output_type": "stream",
     "name": "stdout",
     "text": "Mean squared error (train): 0.084\nMean squared error (cv): 0.457\nMean squared error (test): 0.410\n"
    }
   ],
   "source": [
    "print(\"Mean squared error (train): %.3f\" % mean_squared_error(y_train, forest.predict(X_train_scaled)))\n",
    "print(\"Mean squared error (cv): %.3f\" % np.mean(np.abs(cross_val_score(forest, X_train_scaled, y_train, \n",
    "                                                                       scoring='neg_mean_squared_error'))))\n",
    "print(\"Mean squared error (test): %.3f\" % mean_squared_error(y_holdout, forest.predict(X_holdout_scaled)))"
   ]
  },
  {
   "cell_type": "markdown",
   "metadata": {},
   "source": [
    "**Настройте параметры min_samples_leaf и max_depth с помощью GridSearchCV и опять проверьте качество модели на кросс-валидации и на отложенной выборке.**"
   ]
  },
  {
   "cell_type": "code",
   "execution_count": 72,
   "metadata": {},
   "outputs": [
    {
     "output_type": "stream",
     "name": "stdout",
     "text": "Fitting 5 folds for each of 90 candidates, totalling 450 fits\n[Parallel(n_jobs=-1)]: Using backend LokyBackend with 4 concurrent workers.\n[Parallel(n_jobs=-1)]: Done  42 tasks      | elapsed:    2.5s\n[Parallel(n_jobs=-1)]: Done 192 tasks      | elapsed:   11.3s\n[Parallel(n_jobs=-1)]: Done 442 tasks      | elapsed:   26.9s\n[Parallel(n_jobs=-1)]: Done 450 out of 450 | elapsed:   27.5s finished\n"
    },
    {
     "output_type": "execute_result",
     "data": {
      "text/plain": "GridSearchCV(cv=5, error_score='raise-deprecating',\n             estimator=RandomForestRegressor(bootstrap=True, criterion='mse',\n                                             max_depth=None,\n                                             max_features='auto',\n                                             max_leaf_nodes=None,\n                                             min_impurity_decrease=0.0,\n                                             min_impurity_split=None,\n                                             min_samples_leaf=1,\n                                             min_samples_split=2,\n                                             min_weight_fraction_leaf=0.0,\n                                             n_estimators='warn', n_jobs=-1,\n                                             oob_score=False, random_state=17,\n                                             verbose=0, warm_start=False),\n             iid='warn', n_jobs=-1,\n             param_grid={'max_depth': [10, 11, 12, 13, 14, 15, 16, 17, 18, 19,\n                                       20, 21, 22, 23, 24],\n                         'max_features': [6, 7, 8, 9, 10, 11]},\n             pre_dispatch='2*n_jobs', refit=True, return_train_score=False,\n             scoring='neg_mean_squared_error', verbose=True)"
     },
     "metadata": {},
     "execution_count": 72
    }
   ],
   "source": [
    "forest_params = {'max_depth': list(range(10, 25)), \n",
    "                  'max_features': list(range(6,12))}\n",
    "\n",
    "locally_best_forest = GridSearchCV(RandomForestRegressor(n_jobs=-1, random_state=17), \n",
    "                                 forest_params, \n",
    "                                 scoring='neg_mean_squared_error',  \n",
    "                                 n_jobs=-1, cv=5,\n",
    "                                  verbose=True)\n",
    "locally_best_forest.fit(X_train_scaled, y_train)"
   ]
  },
  {
   "cell_type": "code",
   "execution_count": 73,
   "metadata": {},
   "outputs": [
    {
     "output_type": "execute_result",
     "data": {
      "text/plain": "({'max_depth': 19, 'max_features': 7}, -0.4346519750542217)"
     },
     "metadata": {},
     "execution_count": 73
    }
   ],
   "source": [
    "locally_best_forest.best_params_, locally_best_forest.best_score_"
   ]
  },
  {
   "cell_type": "markdown",
   "metadata": {},
   "source": [
    "**К сожалению, результаты  GridSearchCV не полностью воспроизводимы (могут отличаться на разных платформах даже при фиксировании *random_state*). Поэтому обучите лес с параметрами max_depth=19, max_features=7, и min_samples_leaf=1 (лучшие в моем случае).**<br>\n",
    "**<font color='red'>Вопрос 6:</font> Каковы среднеквадратичные ошибки настроенного случайного леса на обучающей выборке, на кросс-валидации (cross_val_score с scoring='neg_mean_squared_error') и на отложенной выборке?**"
   ]
  },
  {
   "cell_type": "code",
   "execution_count": 75,
   "metadata": {},
   "outputs": [
    {
     "output_type": "stream",
     "name": "stdout",
     "text": "Mean squared error (cv): 0.457\nMean squared error (test): 0.410\n"
    }
   ],
   "source": [
    "print(\"Mean squared error (cv): %.3f\" % np.mean(np.abs(cross_val_score(locally_best_forest.best_estimator_,\n",
    "                                                        X_train_scaled, y_train, \n",
    "                                                        scoring='neg_mean_squared_error'))))\n",
    "print(\"Mean squared error (test): %.3f\" % mean_squared_error(y_holdout, \n",
    "                                                             locally_best_forest.predict(X_holdout_scaled)))"
   ]
  },
  {
   "cell_type": "markdown",
   "metadata": {},
   "source": [
    "**Оцените важность признаков с помощью случайного леса.**<br>\n",
    "**<font color='red'>Вопрос 7:</font> Какой признак оказался главным в настроенной модели случайного леса?**"
   ]
  },
  {
   "cell_type": "code",
   "execution_count": 77,
   "metadata": {},
   "outputs": [
    {
     "output_type": "execute_result",
     "data": {
      "text/plain": "                          coef\nalcohol               0.224432\nvolatile acidity      0.119393\nfree sulfur dioxide   0.116147\npH                    0.072806\ntotal sulfur dioxide  0.071318\nresidual sugar        0.070160\ndensity               0.069367\nchlorides             0.067982\nfixed acidity         0.064268\ncitric acid           0.062945\nsulphates             0.061184",
      "text/html": "<div>\n<style scoped>\n    .dataframe tbody tr th:only-of-type {\n        vertical-align: middle;\n    }\n\n    .dataframe tbody tr th {\n        vertical-align: top;\n    }\n\n    .dataframe thead th {\n        text-align: right;\n    }\n</style>\n<table border=\"1\" class=\"dataframe\">\n  <thead>\n    <tr style=\"text-align: right;\">\n      <th></th>\n      <th>coef</th>\n    </tr>\n  </thead>\n  <tbody>\n    <tr>\n      <td>alcohol</td>\n      <td>0.224432</td>\n    </tr>\n    <tr>\n      <td>volatile acidity</td>\n      <td>0.119393</td>\n    </tr>\n    <tr>\n      <td>free sulfur dioxide</td>\n      <td>0.116147</td>\n    </tr>\n    <tr>\n      <td>pH</td>\n      <td>0.072806</td>\n    </tr>\n    <tr>\n      <td>total sulfur dioxide</td>\n      <td>0.071318</td>\n    </tr>\n    <tr>\n      <td>residual sugar</td>\n      <td>0.070160</td>\n    </tr>\n    <tr>\n      <td>density</td>\n      <td>0.069367</td>\n    </tr>\n    <tr>\n      <td>chlorides</td>\n      <td>0.067982</td>\n    </tr>\n    <tr>\n      <td>fixed acidity</td>\n      <td>0.064268</td>\n    </tr>\n    <tr>\n      <td>citric acid</td>\n      <td>0.062945</td>\n    </tr>\n    <tr>\n      <td>sulphates</td>\n      <td>0.061184</td>\n    </tr>\n  </tbody>\n</table>\n</div>"
     },
     "metadata": {},
     "execution_count": 77
    }
   ],
   "source": [
    "rf_importance = pd.DataFrame(locally_best_forest.best_estimator_.feature_importances_, \n",
    "                             columns=['coef'], index=data.columns[:-1]) \n",
    "rf_importance.sort_values(by='coef', ascending=False)"
   ]
  },
  {
   "cell_type": "markdown",
   "metadata": {},
   "source": [
    "**Сделайте выводы о качестве моделей и оценках влияния признаков на качество вина с помощью этих трех моделей.**"
   ]
  }
 ],
 "metadata": {
  "anaconda-cloud": {},
  "kernelspec": {
   "display_name": "Python 3",
   "language": "python",
   "name": "python3"
  },
  "language_info": {
   "codemirror_mode": {
    "name": "ipython",
    "version": 3
   },
   "file_extension": ".py",
   "mimetype": "text/x-python",
   "name": "python",
   "nbconvert_exporter": "python",
   "pygments_lexer": "ipython3",
   "version": "2.7.16-final"
  },
  "name": "lesson8_part1_kmeans.ipynb"
 },
 "nbformat": 4,
 "nbformat_minor": 1
}