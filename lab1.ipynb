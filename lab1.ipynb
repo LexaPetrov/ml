{
 "nbformat": 4,
 "nbformat_minor": 2,
 "metadata": {
  "language_info": {
   "name": "python",
   "codemirror_mode": {
    "name": "ipython",
    "version": 3
   },
   "version": "3.7.4-final"
  },
  "orig_nbformat": 2,
  "file_extension": ".py",
  "mimetype": "text/x-python",
  "name": "python",
  "npconvert_exporter": "python",
  "pygments_lexer": "ipython3",
  "version": 3,
  "kernelspec": {
   "name": "python37464bitanaconda3virtualenv35d0a1cac2124ad6a2ad7713884bcf7b",
   "display_name": "Python 3.7.4 64-bit ('anaconda3': virtualenv)"
  }
 },
 "cells": [
  {
   "cell_type": "markdown",
   "execution_count": null,
   "metadata": {},
   "outputs": [],
   "source": [
    "# TASK2"
   ]
  },
  {
   "cell_type": "code",
   "execution_count": 33,
   "metadata": {},
   "outputs": [],
   "source": [
    "import numpy as np\n",
    "import pandas as pd\n",
    "np.set_printoptions(precision=2)\n",
    "pd.set_option('display.max.columns', 100)"
   ]
  },
  {
   "cell_type": "code",
   "execution_count": null,
   "metadata": {},
   "outputs": [],
   "source": []
  },
  {
   "cell_type": "code",
   "execution_count": 34,
   "metadata": {},
   "outputs": [],
   "source": [
    "data = pd.read_csv('./mlcourse/data/adult.data.csv')"
   ]
  },
  {
   "cell_type": "code",
   "execution_count": 35,
   "metadata": {},
   "outputs": [
    {
     "output_type": "execute_result",
     "data": {
      "text/plain": "   age         workclass  fnlwgt  education  education-num  \\\n0   39         State-gov   77516  Bachelors             13   \n1   50  Self-emp-not-inc   83311  Bachelors             13   \n2   38           Private  215646    HS-grad              9   \n3   53           Private  234721       11th              7   \n4   28           Private  338409  Bachelors             13   \n5   37           Private  284582    Masters             14   \n6   49           Private  160187        9th              5   \n7   52  Self-emp-not-inc  209642    HS-grad              9   \n8   31           Private   45781    Masters             14   \n9   42           Private  159449  Bachelors             13   \n\n          marital-status         occupation   relationship   race     sex  \\\n0          Never-married       Adm-clerical  Not-in-family  White    Male   \n1     Married-civ-spouse    Exec-managerial        Husband  White    Male   \n2               Divorced  Handlers-cleaners  Not-in-family  White    Male   \n3     Married-civ-spouse  Handlers-cleaners        Husband  Black    Male   \n4     Married-civ-spouse     Prof-specialty           Wife  Black  Female   \n5     Married-civ-spouse    Exec-managerial           Wife  White  Female   \n6  Married-spouse-absent      Other-service  Not-in-family  Black  Female   \n7     Married-civ-spouse    Exec-managerial        Husband  White    Male   \n8          Never-married     Prof-specialty  Not-in-family  White  Female   \n9     Married-civ-spouse    Exec-managerial        Husband  White    Male   \n\n   capital-gain  capital-loss  hours-per-week native-country salary  \n0          2174             0              40  United-States  <=50K  \n1             0             0              13  United-States  <=50K  \n2             0             0              40  United-States  <=50K  \n3             0             0              40  United-States  <=50K  \n4             0             0              40           Cuba  <=50K  \n5             0             0              40  United-States  <=50K  \n6             0             0              16        Jamaica  <=50K  \n7             0             0              45  United-States   >50K  \n8         14084             0              50  United-States   >50K  \n9          5178             0              40  United-States   >50K  ",
      "text/html": "<div>\n<style scoped>\n    .dataframe tbody tr th:only-of-type {\n        vertical-align: middle;\n    }\n\n    .dataframe tbody tr th {\n        vertical-align: top;\n    }\n\n    .dataframe thead th {\n        text-align: right;\n    }\n</style>\n<table border=\"1\" class=\"dataframe\">\n  <thead>\n    <tr style=\"text-align: right;\">\n      <th></th>\n      <th>age</th>\n      <th>workclass</th>\n      <th>fnlwgt</th>\n      <th>education</th>\n      <th>education-num</th>\n      <th>marital-status</th>\n      <th>occupation</th>\n      <th>relationship</th>\n      <th>race</th>\n      <th>sex</th>\n      <th>capital-gain</th>\n      <th>capital-loss</th>\n      <th>hours-per-week</th>\n      <th>native-country</th>\n      <th>salary</th>\n    </tr>\n  </thead>\n  <tbody>\n    <tr>\n      <td>0</td>\n      <td>39</td>\n      <td>State-gov</td>\n      <td>77516</td>\n      <td>Bachelors</td>\n      <td>13</td>\n      <td>Never-married</td>\n      <td>Adm-clerical</td>\n      <td>Not-in-family</td>\n      <td>White</td>\n      <td>Male</td>\n      <td>2174</td>\n      <td>0</td>\n      <td>40</td>\n      <td>United-States</td>\n      <td>&lt;=50K</td>\n    </tr>\n    <tr>\n      <td>1</td>\n      <td>50</td>\n      <td>Self-emp-not-inc</td>\n      <td>83311</td>\n      <td>Bachelors</td>\n      <td>13</td>\n      <td>Married-civ-spouse</td>\n      <td>Exec-managerial</td>\n      <td>Husband</td>\n      <td>White</td>\n      <td>Male</td>\n      <td>0</td>\n      <td>0</td>\n      <td>13</td>\n      <td>United-States</td>\n      <td>&lt;=50K</td>\n    </tr>\n    <tr>\n      <td>2</td>\n      <td>38</td>\n      <td>Private</td>\n      <td>215646</td>\n      <td>HS-grad</td>\n      <td>9</td>\n      <td>Divorced</td>\n      <td>Handlers-cleaners</td>\n      <td>Not-in-family</td>\n      <td>White</td>\n      <td>Male</td>\n      <td>0</td>\n      <td>0</td>\n      <td>40</td>\n      <td>United-States</td>\n      <td>&lt;=50K</td>\n    </tr>\n    <tr>\n      <td>3</td>\n      <td>53</td>\n      <td>Private</td>\n      <td>234721</td>\n      <td>11th</td>\n      <td>7</td>\n      <td>Married-civ-spouse</td>\n      <td>Handlers-cleaners</td>\n      <td>Husband</td>\n      <td>Black</td>\n      <td>Male</td>\n      <td>0</td>\n      <td>0</td>\n      <td>40</td>\n      <td>United-States</td>\n      <td>&lt;=50K</td>\n    </tr>\n    <tr>\n      <td>4</td>\n      <td>28</td>\n      <td>Private</td>\n      <td>338409</td>\n      <td>Bachelors</td>\n      <td>13</td>\n      <td>Married-civ-spouse</td>\n      <td>Prof-specialty</td>\n      <td>Wife</td>\n      <td>Black</td>\n      <td>Female</td>\n      <td>0</td>\n      <td>0</td>\n      <td>40</td>\n      <td>Cuba</td>\n      <td>&lt;=50K</td>\n    </tr>\n    <tr>\n      <td>5</td>\n      <td>37</td>\n      <td>Private</td>\n      <td>284582</td>\n      <td>Masters</td>\n      <td>14</td>\n      <td>Married-civ-spouse</td>\n      <td>Exec-managerial</td>\n      <td>Wife</td>\n      <td>White</td>\n      <td>Female</td>\n      <td>0</td>\n      <td>0</td>\n      <td>40</td>\n      <td>United-States</td>\n      <td>&lt;=50K</td>\n    </tr>\n    <tr>\n      <td>6</td>\n      <td>49</td>\n      <td>Private</td>\n      <td>160187</td>\n      <td>9th</td>\n      <td>5</td>\n      <td>Married-spouse-absent</td>\n      <td>Other-service</td>\n      <td>Not-in-family</td>\n      <td>Black</td>\n      <td>Female</td>\n      <td>0</td>\n      <td>0</td>\n      <td>16</td>\n      <td>Jamaica</td>\n      <td>&lt;=50K</td>\n    </tr>\n    <tr>\n      <td>7</td>\n      <td>52</td>\n      <td>Self-emp-not-inc</td>\n      <td>209642</td>\n      <td>HS-grad</td>\n      <td>9</td>\n      <td>Married-civ-spouse</td>\n      <td>Exec-managerial</td>\n      <td>Husband</td>\n      <td>White</td>\n      <td>Male</td>\n      <td>0</td>\n      <td>0</td>\n      <td>45</td>\n      <td>United-States</td>\n      <td>&gt;50K</td>\n    </tr>\n    <tr>\n      <td>8</td>\n      <td>31</td>\n      <td>Private</td>\n      <td>45781</td>\n      <td>Masters</td>\n      <td>14</td>\n      <td>Never-married</td>\n      <td>Prof-specialty</td>\n      <td>Not-in-family</td>\n      <td>White</td>\n      <td>Female</td>\n      <td>14084</td>\n      <td>0</td>\n      <td>50</td>\n      <td>United-States</td>\n      <td>&gt;50K</td>\n    </tr>\n    <tr>\n      <td>9</td>\n      <td>42</td>\n      <td>Private</td>\n      <td>159449</td>\n      <td>Bachelors</td>\n      <td>13</td>\n      <td>Married-civ-spouse</td>\n      <td>Exec-managerial</td>\n      <td>Husband</td>\n      <td>White</td>\n      <td>Male</td>\n      <td>5178</td>\n      <td>0</td>\n      <td>40</td>\n      <td>United-States</td>\n      <td>&gt;50K</td>\n    </tr>\n  </tbody>\n</table>\n</div>"
     },
     "metadata": {},
     "execution_count": 35
    }
   ],
   "source": [
    "data.head(10)"
   ]
  },
  {
   "cell_type": "code",
   "execution_count": 36,
   "metadata": {},
   "outputs": [
    {
     "output_type": "execute_result",
     "data": {
      "text/plain": "                age        fnlwgt  education-num  capital-gain  capital-loss  \\\ncount  32561.000000  3.256100e+04   32561.000000  32561.000000  32561.000000   \nmean      38.581647  1.897784e+05      10.080679   1077.648844     87.303830   \nstd       13.640433  1.055500e+05       2.572720   7385.292085    402.960219   \nmin       17.000000  1.228500e+04       1.000000      0.000000      0.000000   \n25%       28.000000  1.178270e+05       9.000000      0.000000      0.000000   \n50%       37.000000  1.783560e+05      10.000000      0.000000      0.000000   \n75%       48.000000  2.370510e+05      12.000000      0.000000      0.000000   \nmax       90.000000  1.484705e+06      16.000000  99999.000000   4356.000000   \n\n       hours-per-week  \ncount    32561.000000  \nmean        40.437456  \nstd         12.347429  \nmin          1.000000  \n25%         40.000000  \n50%         40.000000  \n75%         45.000000  \nmax         99.000000  ",
      "text/html": "<div>\n<style scoped>\n    .dataframe tbody tr th:only-of-type {\n        vertical-align: middle;\n    }\n\n    .dataframe tbody tr th {\n        vertical-align: top;\n    }\n\n    .dataframe thead th {\n        text-align: right;\n    }\n</style>\n<table border=\"1\" class=\"dataframe\">\n  <thead>\n    <tr style=\"text-align: right;\">\n      <th></th>\n      <th>age</th>\n      <th>fnlwgt</th>\n      <th>education-num</th>\n      <th>capital-gain</th>\n      <th>capital-loss</th>\n      <th>hours-per-week</th>\n    </tr>\n  </thead>\n  <tbody>\n    <tr>\n      <td>count</td>\n      <td>32561.000000</td>\n      <td>3.256100e+04</td>\n      <td>32561.000000</td>\n      <td>32561.000000</td>\n      <td>32561.000000</td>\n      <td>32561.000000</td>\n    </tr>\n    <tr>\n      <td>mean</td>\n      <td>38.581647</td>\n      <td>1.897784e+05</td>\n      <td>10.080679</td>\n      <td>1077.648844</td>\n      <td>87.303830</td>\n      <td>40.437456</td>\n    </tr>\n    <tr>\n      <td>std</td>\n      <td>13.640433</td>\n      <td>1.055500e+05</td>\n      <td>2.572720</td>\n      <td>7385.292085</td>\n      <td>402.960219</td>\n      <td>12.347429</td>\n    </tr>\n    <tr>\n      <td>min</td>\n      <td>17.000000</td>\n      <td>1.228500e+04</td>\n      <td>1.000000</td>\n      <td>0.000000</td>\n      <td>0.000000</td>\n      <td>1.000000</td>\n    </tr>\n    <tr>\n      <td>25%</td>\n      <td>28.000000</td>\n      <td>1.178270e+05</td>\n      <td>9.000000</td>\n      <td>0.000000</td>\n      <td>0.000000</td>\n      <td>40.000000</td>\n    </tr>\n    <tr>\n      <td>50%</td>\n      <td>37.000000</td>\n      <td>1.783560e+05</td>\n      <td>10.000000</td>\n      <td>0.000000</td>\n      <td>0.000000</td>\n      <td>40.000000</td>\n    </tr>\n    <tr>\n      <td>75%</td>\n      <td>48.000000</td>\n      <td>2.370510e+05</td>\n      <td>12.000000</td>\n      <td>0.000000</td>\n      <td>0.000000</td>\n      <td>45.000000</td>\n    </tr>\n    <tr>\n      <td>max</td>\n      <td>90.000000</td>\n      <td>1.484705e+06</td>\n      <td>16.000000</td>\n      <td>99999.000000</td>\n      <td>4356.000000</td>\n      <td>99.000000</td>\n    </tr>\n  </tbody>\n</table>\n</div>"
     },
     "metadata": {},
     "execution_count": 36
    }
   ],
   "source": [
    "data.describe()"
   ]
  },
  {
   "cell_type": "code",
   "execution_count": 37,
   "metadata": {},
   "outputs": [],
   "source": [
    "# data.plot(kind='bar')"
   ]
  },
  {
   "cell_type": "code",
   "execution_count": 38,
   "metadata": {},
   "outputs": [
    {
     "output_type": "execute_result",
     "data": {
      "text/plain": "          age  workclass  fnlwgt  education  education-num  marital-status  \\\nsex                                                                          \nFemale  10771      10771   10771      10771          10771           10771   \nMale    21790      21790   21790      21790          21790           21790   \n\n        occupation  relationship   race  capital-gain  capital-loss  \\\nsex                                                                   \nFemale       10771         10771  10771         10771         10771   \nMale         21790         21790  21790         21790         21790   \n\n        hours-per-week  native-country  salary  \nsex                                             \nFemale           10771           10771   10771  \nMale             21790           21790   21790  ",
      "text/html": "<div>\n<style scoped>\n    .dataframe tbody tr th:only-of-type {\n        vertical-align: middle;\n    }\n\n    .dataframe tbody tr th {\n        vertical-align: top;\n    }\n\n    .dataframe thead th {\n        text-align: right;\n    }\n</style>\n<table border=\"1\" class=\"dataframe\">\n  <thead>\n    <tr style=\"text-align: right;\">\n      <th></th>\n      <th>age</th>\n      <th>workclass</th>\n      <th>fnlwgt</th>\n      <th>education</th>\n      <th>education-num</th>\n      <th>marital-status</th>\n      <th>occupation</th>\n      <th>relationship</th>\n      <th>race</th>\n      <th>capital-gain</th>\n      <th>capital-loss</th>\n      <th>hours-per-week</th>\n      <th>native-country</th>\n      <th>salary</th>\n    </tr>\n    <tr>\n      <th>sex</th>\n      <th></th>\n      <th></th>\n      <th></th>\n      <th></th>\n      <th></th>\n      <th></th>\n      <th></th>\n      <th></th>\n      <th></th>\n      <th></th>\n      <th></th>\n      <th></th>\n      <th></th>\n      <th></th>\n    </tr>\n  </thead>\n  <tbody>\n    <tr>\n      <td>Female</td>\n      <td>10771</td>\n      <td>10771</td>\n      <td>10771</td>\n      <td>10771</td>\n      <td>10771</td>\n      <td>10771</td>\n      <td>10771</td>\n      <td>10771</td>\n      <td>10771</td>\n      <td>10771</td>\n      <td>10771</td>\n      <td>10771</td>\n      <td>10771</td>\n      <td>10771</td>\n    </tr>\n    <tr>\n      <td>Male</td>\n      <td>21790</td>\n      <td>21790</td>\n      <td>21790</td>\n      <td>21790</td>\n      <td>21790</td>\n      <td>21790</td>\n      <td>21790</td>\n      <td>21790</td>\n      <td>21790</td>\n      <td>21790</td>\n      <td>21790</td>\n      <td>21790</td>\n      <td>21790</td>\n      <td>21790</td>\n    </tr>\n  </tbody>\n</table>\n</div>"
     },
     "metadata": {},
     "execution_count": 38
    }
   ],
   "source": [
    "#1 How many men and women (sex feature) are represented in this dataset?\n",
    "data.groupby('sex').count()"
   ]
  },
  {
   "cell_type": "code",
   "execution_count": 39,
   "metadata": {},
   "outputs": [
    {
     "output_type": "execute_result",
     "data": {
      "text/plain": "col_0   32561\nsex          \nFemale  10771\nMale    21790",
      "text/html": "<div>\n<style scoped>\n    .dataframe tbody tr th:only-of-type {\n        vertical-align: middle;\n    }\n\n    .dataframe tbody tr th {\n        vertical-align: top;\n    }\n\n    .dataframe thead th {\n        text-align: right;\n    }\n</style>\n<table border=\"1\" class=\"dataframe\">\n  <thead>\n    <tr style=\"text-align: right;\">\n      <th>col_0</th>\n      <th>32561</th>\n    </tr>\n    <tr>\n      <th>sex</th>\n      <th></th>\n    </tr>\n  </thead>\n  <tbody>\n    <tr>\n      <td>Female</td>\n      <td>10771</td>\n    </tr>\n    <tr>\n      <td>Male</td>\n      <td>21790</td>\n    </tr>\n  </tbody>\n</table>\n</div>"
     },
     "metadata": {},
     "execution_count": 39
    }
   ],
   "source": [
    "# Вот так лучше\n",
    "pd.crosstab(data['sex'], data['sex'].count())"
   ]
  },
  {
   "cell_type": "code",
   "execution_count": 40,
   "metadata": {},
   "outputs": [
    {
     "output_type": "execute_result",
     "data": {
      "text/plain": "36.85823043357163"
     },
     "metadata": {},
     "execution_count": 40
    }
   ],
   "source": [
    "# 2 What is the average age (age feature) of women?\n",
    "data[data['sex'] == 'Female'].age.mean()"
   ]
  },
  {
   "cell_type": "code",
   "execution_count": 41,
   "metadata": {},
   "outputs": [
    {
     "output_type": "stream",
     "name": "stdout",
     "text": "German people % :  age               0.420749\nworkclass         0.420749\nfnlwgt            0.420749\neducation         0.420749\neducation-num     0.420749\nmarital-status    0.420749\noccupation        0.420749\nrelationship      0.420749\nrace              0.420749\nsex               0.420749\ncapital-gain      0.420749\ncapital-loss      0.420749\nhours-per-week    0.420749\nnative-country    0.420749\nsalary            0.420749\ndtype: float64\n"
    }
   ],
   "source": [
    "# 3 What is the percentage of German citizens (native-country feature)?\n",
    "allpeople = data.count()\n",
    "germans = data[data['native-country'] == 'Germany'].count()\n",
    "print('German people % : ', germans / allpeople * 100)"
   ]
  },
  {
   "cell_type": "code",
   "execution_count": 42,
   "metadata": {},
   "outputs": [
    {
     "output_type": "execute_result",
     "data": {
      "text/plain": "(44.24984058155847, 36.78373786407767)"
     },
     "metadata": {},
     "execution_count": 42
    }
   ],
   "source": [
    "# 4-5 What are the mean and standard deviation of age for those who earn more than 50K per year (salary feature) and those who earn less than 50K per year?\n",
    "data[data['salary'] == '>50K']['age'].mean(), \\\n",
    "data[data['salary'] == '<=50K']['age'].mean()"
   ]
  },
  {
   "cell_type": "code",
   "execution_count": 43,
   "metadata": {},
   "outputs": [
    {
     "output_type": "execute_result",
     "data": {
      "text/plain": "(10.51902771985177, 14.020088490824813)"
     },
     "metadata": {},
     "execution_count": 43
    }
   ],
   "source": [
    "data[data['salary'] == '>50K']['age'].std(), \\\n",
    "data[data['salary'] == '<=50K']['age'].std()"
   ]
  },
  {
   "cell_type": "code",
   "execution_count": 44,
   "metadata": {},
   "outputs": [
    {
     "output_type": "execute_result",
     "data": {
      "text/plain": "                      age  workclass  fnlwgt  education-num  marital-status  \\\nsalary education                                                              \nFalse  10th           871        871     871            871             871   \n       11th          1115       1115    1115           1115            1115   \n       12th           400        400     400            400             400   \n       1st-4th        162        162     162            162             162   \n       5th-6th        317        317     317            317             317   \n       7th-8th        606        606     606            606             606   \n       9th            487        487     487            487             487   \n       Assoc-acdm     802        802     802            802             802   \n       Assoc-voc     1021       1021    1021           1021            1021   \n       Bachelors     3134       3134    3134           3134            3134   \n       Doctorate      107        107     107            107             107   \n       HS-grad       8826       8826    8826           8826            8826   \n       Masters        764        764     764            764             764   \n       Preschool       51         51      51             51              51   \n       Prof-school    153        153     153            153             153   \n       Some-college  5904       5904    5904           5904            5904   \nTrue   10th            62         62      62             62              62   \n       11th            60         60      60             60              60   \n       12th            33         33      33             33              33   \n       1st-4th          6          6       6              6               6   \n       5th-6th         16         16      16             16              16   \n       7th-8th         40         40      40             40              40   \n       9th             27         27      27             27              27   \n       Assoc-acdm     265        265     265            265             265   \n       Assoc-voc      361        361     361            361             361   \n       Bachelors     2221       2221    2221           2221            2221   \n       Doctorate      306        306     306            306             306   \n       HS-grad       1675       1675    1675           1675            1675   \n       Masters        959        959     959            959             959   \n       Prof-school    423        423     423            423             423   \n       Some-college  1387       1387    1387           1387            1387   \n\n                     occupation  relationship  race   sex  capital-gain  \\\nsalary education                                                          \nFalse  10th                 871           871   871   871           871   \n       11th                1115          1115  1115  1115          1115   \n       12th                 400           400   400   400           400   \n       1st-4th              162           162   162   162           162   \n       5th-6th              317           317   317   317           317   \n       7th-8th              606           606   606   606           606   \n       9th                  487           487   487   487           487   \n       Assoc-acdm           802           802   802   802           802   \n       Assoc-voc           1021          1021  1021  1021          1021   \n       Bachelors           3134          3134  3134  3134          3134   \n       Doctorate            107           107   107   107           107   \n       HS-grad             8826          8826  8826  8826          8826   \n       Masters              764           764   764   764           764   \n       Preschool             51            51    51    51            51   \n       Prof-school          153           153   153   153           153   \n       Some-college        5904          5904  5904  5904          5904   \nTrue   10th                  62            62    62    62            62   \n       11th                  60            60    60    60            60   \n       12th                  33            33    33    33            33   \n       1st-4th                6             6     6     6             6   \n       5th-6th               16            16    16    16            16   \n       7th-8th               40            40    40    40            40   \n       9th                   27            27    27    27            27   \n       Assoc-acdm           265           265   265   265           265   \n       Assoc-voc            361           361   361   361           361   \n       Bachelors           2221          2221  2221  2221          2221   \n       Doctorate            306           306   306   306           306   \n       HS-grad             1675          1675  1675  1675          1675   \n       Masters              959           959   959   959           959   \n       Prof-school          423           423   423   423           423   \n       Some-college        1387          1387  1387  1387          1387   \n\n                     capital-loss  hours-per-week  native-country  salary  \nsalary education                                                           \nFalse  10th                   871             871             871     871  \n       11th                  1115            1115            1115    1115  \n       12th                   400             400             400     400  \n       1st-4th                162             162             162     162  \n       5th-6th                317             317             317     317  \n       7th-8th                606             606             606     606  \n       9th                    487             487             487     487  \n       Assoc-acdm             802             802             802     802  \n       Assoc-voc             1021            1021            1021    1021  \n       Bachelors             3134            3134            3134    3134  \n       Doctorate              107             107             107     107  \n       HS-grad               8826            8826            8826    8826  \n       Masters                764             764             764     764  \n       Preschool               51              51              51      51  \n       Prof-school            153             153             153     153  \n       Some-college          5904            5904            5904    5904  \nTrue   10th                    62              62              62      62  \n       11th                    60              60              60      60  \n       12th                    33              33              33      33  \n       1st-4th                  6               6               6       6  \n       5th-6th                 16              16              16      16  \n       7th-8th                 40              40              40      40  \n       9th                     27              27              27      27  \n       Assoc-acdm             265             265             265     265  \n       Assoc-voc              361             361             361     361  \n       Bachelors             2221            2221            2221    2221  \n       Doctorate              306             306             306     306  \n       HS-grad               1675            1675            1675    1675  \n       Masters                959             959             959     959  \n       Prof-school            423             423             423     423  \n       Some-college          1387            1387            1387    1387  ",
      "text/html": "<div>\n<style scoped>\n    .dataframe tbody tr th:only-of-type {\n        vertical-align: middle;\n    }\n\n    .dataframe tbody tr th {\n        vertical-align: top;\n    }\n\n    .dataframe thead th {\n        text-align: right;\n    }\n</style>\n<table border=\"1\" class=\"dataframe\">\n  <thead>\n    <tr style=\"text-align: right;\">\n      <th></th>\n      <th></th>\n      <th>age</th>\n      <th>workclass</th>\n      <th>fnlwgt</th>\n      <th>education-num</th>\n      <th>marital-status</th>\n      <th>occupation</th>\n      <th>relationship</th>\n      <th>race</th>\n      <th>sex</th>\n      <th>capital-gain</th>\n      <th>capital-loss</th>\n      <th>hours-per-week</th>\n      <th>native-country</th>\n      <th>salary</th>\n    </tr>\n    <tr>\n      <th>salary</th>\n      <th>education</th>\n      <th></th>\n      <th></th>\n      <th></th>\n      <th></th>\n      <th></th>\n      <th></th>\n      <th></th>\n      <th></th>\n      <th></th>\n      <th></th>\n      <th></th>\n      <th></th>\n      <th></th>\n      <th></th>\n    </tr>\n  </thead>\n  <tbody>\n    <tr>\n      <td rowspan=\"16\" valign=\"top\">False</td>\n      <td>10th</td>\n      <td>871</td>\n      <td>871</td>\n      <td>871</td>\n      <td>871</td>\n      <td>871</td>\n      <td>871</td>\n      <td>871</td>\n      <td>871</td>\n      <td>871</td>\n      <td>871</td>\n      <td>871</td>\n      <td>871</td>\n      <td>871</td>\n      <td>871</td>\n    </tr>\n    <tr>\n      <td>11th</td>\n      <td>1115</td>\n      <td>1115</td>\n      <td>1115</td>\n      <td>1115</td>\n      <td>1115</td>\n      <td>1115</td>\n      <td>1115</td>\n      <td>1115</td>\n      <td>1115</td>\n      <td>1115</td>\n      <td>1115</td>\n      <td>1115</td>\n      <td>1115</td>\n      <td>1115</td>\n    </tr>\n    <tr>\n      <td>12th</td>\n      <td>400</td>\n      <td>400</td>\n      <td>400</td>\n      <td>400</td>\n      <td>400</td>\n      <td>400</td>\n      <td>400</td>\n      <td>400</td>\n      <td>400</td>\n      <td>400</td>\n      <td>400</td>\n      <td>400</td>\n      <td>400</td>\n      <td>400</td>\n    </tr>\n    <tr>\n      <td>1st-4th</td>\n      <td>162</td>\n      <td>162</td>\n      <td>162</td>\n      <td>162</td>\n      <td>162</td>\n      <td>162</td>\n      <td>162</td>\n      <td>162</td>\n      <td>162</td>\n      <td>162</td>\n      <td>162</td>\n      <td>162</td>\n      <td>162</td>\n      <td>162</td>\n    </tr>\n    <tr>\n      <td>5th-6th</td>\n      <td>317</td>\n      <td>317</td>\n      <td>317</td>\n      <td>317</td>\n      <td>317</td>\n      <td>317</td>\n      <td>317</td>\n      <td>317</td>\n      <td>317</td>\n      <td>317</td>\n      <td>317</td>\n      <td>317</td>\n      <td>317</td>\n      <td>317</td>\n    </tr>\n    <tr>\n      <td>7th-8th</td>\n      <td>606</td>\n      <td>606</td>\n      <td>606</td>\n      <td>606</td>\n      <td>606</td>\n      <td>606</td>\n      <td>606</td>\n      <td>606</td>\n      <td>606</td>\n      <td>606</td>\n      <td>606</td>\n      <td>606</td>\n      <td>606</td>\n      <td>606</td>\n    </tr>\n    <tr>\n      <td>9th</td>\n      <td>487</td>\n      <td>487</td>\n      <td>487</td>\n      <td>487</td>\n      <td>487</td>\n      <td>487</td>\n      <td>487</td>\n      <td>487</td>\n      <td>487</td>\n      <td>487</td>\n      <td>487</td>\n      <td>487</td>\n      <td>487</td>\n      <td>487</td>\n    </tr>\n    <tr>\n      <td>Assoc-acdm</td>\n      <td>802</td>\n      <td>802</td>\n      <td>802</td>\n      <td>802</td>\n      <td>802</td>\n      <td>802</td>\n      <td>802</td>\n      <td>802</td>\n      <td>802</td>\n      <td>802</td>\n      <td>802</td>\n      <td>802</td>\n      <td>802</td>\n      <td>802</td>\n    </tr>\n    <tr>\n      <td>Assoc-voc</td>\n      <td>1021</td>\n      <td>1021</td>\n      <td>1021</td>\n      <td>1021</td>\n      <td>1021</td>\n      <td>1021</td>\n      <td>1021</td>\n      <td>1021</td>\n      <td>1021</td>\n      <td>1021</td>\n      <td>1021</td>\n      <td>1021</td>\n      <td>1021</td>\n      <td>1021</td>\n    </tr>\n    <tr>\n      <td>Bachelors</td>\n      <td>3134</td>\n      <td>3134</td>\n      <td>3134</td>\n      <td>3134</td>\n      <td>3134</td>\n      <td>3134</td>\n      <td>3134</td>\n      <td>3134</td>\n      <td>3134</td>\n      <td>3134</td>\n      <td>3134</td>\n      <td>3134</td>\n      <td>3134</td>\n      <td>3134</td>\n    </tr>\n    <tr>\n      <td>Doctorate</td>\n      <td>107</td>\n      <td>107</td>\n      <td>107</td>\n      <td>107</td>\n      <td>107</td>\n      <td>107</td>\n      <td>107</td>\n      <td>107</td>\n      <td>107</td>\n      <td>107</td>\n      <td>107</td>\n      <td>107</td>\n      <td>107</td>\n      <td>107</td>\n    </tr>\n    <tr>\n      <td>HS-grad</td>\n      <td>8826</td>\n      <td>8826</td>\n      <td>8826</td>\n      <td>8826</td>\n      <td>8826</td>\n      <td>8826</td>\n      <td>8826</td>\n      <td>8826</td>\n      <td>8826</td>\n      <td>8826</td>\n      <td>8826</td>\n      <td>8826</td>\n      <td>8826</td>\n      <td>8826</td>\n    </tr>\n    <tr>\n      <td>Masters</td>\n      <td>764</td>\n      <td>764</td>\n      <td>764</td>\n      <td>764</td>\n      <td>764</td>\n      <td>764</td>\n      <td>764</td>\n      <td>764</td>\n      <td>764</td>\n      <td>764</td>\n      <td>764</td>\n      <td>764</td>\n      <td>764</td>\n      <td>764</td>\n    </tr>\n    <tr>\n      <td>Preschool</td>\n      <td>51</td>\n      <td>51</td>\n      <td>51</td>\n      <td>51</td>\n      <td>51</td>\n      <td>51</td>\n      <td>51</td>\n      <td>51</td>\n      <td>51</td>\n      <td>51</td>\n      <td>51</td>\n      <td>51</td>\n      <td>51</td>\n      <td>51</td>\n    </tr>\n    <tr>\n      <td>Prof-school</td>\n      <td>153</td>\n      <td>153</td>\n      <td>153</td>\n      <td>153</td>\n      <td>153</td>\n      <td>153</td>\n      <td>153</td>\n      <td>153</td>\n      <td>153</td>\n      <td>153</td>\n      <td>153</td>\n      <td>153</td>\n      <td>153</td>\n      <td>153</td>\n    </tr>\n    <tr>\n      <td>Some-college</td>\n      <td>5904</td>\n      <td>5904</td>\n      <td>5904</td>\n      <td>5904</td>\n      <td>5904</td>\n      <td>5904</td>\n      <td>5904</td>\n      <td>5904</td>\n      <td>5904</td>\n      <td>5904</td>\n      <td>5904</td>\n      <td>5904</td>\n      <td>5904</td>\n      <td>5904</td>\n    </tr>\n    <tr>\n      <td rowspan=\"15\" valign=\"top\">True</td>\n      <td>10th</td>\n      <td>62</td>\n      <td>62</td>\n      <td>62</td>\n      <td>62</td>\n      <td>62</td>\n      <td>62</td>\n      <td>62</td>\n      <td>62</td>\n      <td>62</td>\n      <td>62</td>\n      <td>62</td>\n      <td>62</td>\n      <td>62</td>\n      <td>62</td>\n    </tr>\n    <tr>\n      <td>11th</td>\n      <td>60</td>\n      <td>60</td>\n      <td>60</td>\n      <td>60</td>\n      <td>60</td>\n      <td>60</td>\n      <td>60</td>\n      <td>60</td>\n      <td>60</td>\n      <td>60</td>\n      <td>60</td>\n      <td>60</td>\n      <td>60</td>\n      <td>60</td>\n    </tr>\n    <tr>\n      <td>12th</td>\n      <td>33</td>\n      <td>33</td>\n      <td>33</td>\n      <td>33</td>\n      <td>33</td>\n      <td>33</td>\n      <td>33</td>\n      <td>33</td>\n      <td>33</td>\n      <td>33</td>\n      <td>33</td>\n      <td>33</td>\n      <td>33</td>\n      <td>33</td>\n    </tr>\n    <tr>\n      <td>1st-4th</td>\n      <td>6</td>\n      <td>6</td>\n      <td>6</td>\n      <td>6</td>\n      <td>6</td>\n      <td>6</td>\n      <td>6</td>\n      <td>6</td>\n      <td>6</td>\n      <td>6</td>\n      <td>6</td>\n      <td>6</td>\n      <td>6</td>\n      <td>6</td>\n    </tr>\n    <tr>\n      <td>5th-6th</td>\n      <td>16</td>\n      <td>16</td>\n      <td>16</td>\n      <td>16</td>\n      <td>16</td>\n      <td>16</td>\n      <td>16</td>\n      <td>16</td>\n      <td>16</td>\n      <td>16</td>\n      <td>16</td>\n      <td>16</td>\n      <td>16</td>\n      <td>16</td>\n    </tr>\n    <tr>\n      <td>7th-8th</td>\n      <td>40</td>\n      <td>40</td>\n      <td>40</td>\n      <td>40</td>\n      <td>40</td>\n      <td>40</td>\n      <td>40</td>\n      <td>40</td>\n      <td>40</td>\n      <td>40</td>\n      <td>40</td>\n      <td>40</td>\n      <td>40</td>\n      <td>40</td>\n    </tr>\n    <tr>\n      <td>9th</td>\n      <td>27</td>\n      <td>27</td>\n      <td>27</td>\n      <td>27</td>\n      <td>27</td>\n      <td>27</td>\n      <td>27</td>\n      <td>27</td>\n      <td>27</td>\n      <td>27</td>\n      <td>27</td>\n      <td>27</td>\n      <td>27</td>\n      <td>27</td>\n    </tr>\n    <tr>\n      <td>Assoc-acdm</td>\n      <td>265</td>\n      <td>265</td>\n      <td>265</td>\n      <td>265</td>\n      <td>265</td>\n      <td>265</td>\n      <td>265</td>\n      <td>265</td>\n      <td>265</td>\n      <td>265</td>\n      <td>265</td>\n      <td>265</td>\n      <td>265</td>\n      <td>265</td>\n    </tr>\n    <tr>\n      <td>Assoc-voc</td>\n      <td>361</td>\n      <td>361</td>\n      <td>361</td>\n      <td>361</td>\n      <td>361</td>\n      <td>361</td>\n      <td>361</td>\n      <td>361</td>\n      <td>361</td>\n      <td>361</td>\n      <td>361</td>\n      <td>361</td>\n      <td>361</td>\n      <td>361</td>\n    </tr>\n    <tr>\n      <td>Bachelors</td>\n      <td>2221</td>\n      <td>2221</td>\n      <td>2221</td>\n      <td>2221</td>\n      <td>2221</td>\n      <td>2221</td>\n      <td>2221</td>\n      <td>2221</td>\n      <td>2221</td>\n      <td>2221</td>\n      <td>2221</td>\n      <td>2221</td>\n      <td>2221</td>\n      <td>2221</td>\n    </tr>\n    <tr>\n      <td>Doctorate</td>\n      <td>306</td>\n      <td>306</td>\n      <td>306</td>\n      <td>306</td>\n      <td>306</td>\n      <td>306</td>\n      <td>306</td>\n      <td>306</td>\n      <td>306</td>\n      <td>306</td>\n      <td>306</td>\n      <td>306</td>\n      <td>306</td>\n      <td>306</td>\n    </tr>\n    <tr>\n      <td>HS-grad</td>\n      <td>1675</td>\n      <td>1675</td>\n      <td>1675</td>\n      <td>1675</td>\n      <td>1675</td>\n      <td>1675</td>\n      <td>1675</td>\n      <td>1675</td>\n      <td>1675</td>\n      <td>1675</td>\n      <td>1675</td>\n      <td>1675</td>\n      <td>1675</td>\n      <td>1675</td>\n    </tr>\n    <tr>\n      <td>Masters</td>\n      <td>959</td>\n      <td>959</td>\n      <td>959</td>\n      <td>959</td>\n      <td>959</td>\n      <td>959</td>\n      <td>959</td>\n      <td>959</td>\n      <td>959</td>\n      <td>959</td>\n      <td>959</td>\n      <td>959</td>\n      <td>959</td>\n      <td>959</td>\n    </tr>\n    <tr>\n      <td>Prof-school</td>\n      <td>423</td>\n      <td>423</td>\n      <td>423</td>\n      <td>423</td>\n      <td>423</td>\n      <td>423</td>\n      <td>423</td>\n      <td>423</td>\n      <td>423</td>\n      <td>423</td>\n      <td>423</td>\n      <td>423</td>\n      <td>423</td>\n      <td>423</td>\n    </tr>\n    <tr>\n      <td>Some-college</td>\n      <td>1387</td>\n      <td>1387</td>\n      <td>1387</td>\n      <td>1387</td>\n      <td>1387</td>\n      <td>1387</td>\n      <td>1387</td>\n      <td>1387</td>\n      <td>1387</td>\n      <td>1387</td>\n      <td>1387</td>\n      <td>1387</td>\n      <td>1387</td>\n      <td>1387</td>\n    </tr>\n  </tbody>\n</table>\n</div>"
     },
     "metadata": {},
     "execution_count": 44
    }
   ],
   "source": [
    "# 6 Is it true that people who earn more than 50K have at least high school education? (education – Bachelors, Prof-school, Assoc-acdm, Assoc-voc, Masters or Doctorate feature)\n",
    "# data[data['salary'] == '>50K']['education'].count()\n",
    "data.groupby([data['salary'] == '>50K', 'education']).count()\n",
    "#false"
   ]
  },
  {
   "cell_type": "code",
   "execution_count": 45,
   "metadata": {},
   "outputs": [
    {
     "output_type": "execute_result",
     "data": {
      "text/plain": "(                      count       mean        std   min   25%   50%   75%  \\\n race                                                                        \n Amer-Indian-Eskimo    311.0  37.173633  12.447130  17.0  28.0  35.0  45.5   \n Asian-Pac-Islander   1039.0  37.746872  12.825133  17.0  28.0  36.0  45.0   \n Black                3124.0  37.767926  12.759290  17.0  28.0  36.0  46.0   \n Other                 271.0  33.457565  11.538865  17.0  25.0  31.0  41.0   \n White               27816.0  38.769881  13.782306  17.0  28.0  37.0  48.0   \n \n                      max  \n race                      \n Amer-Indian-Eskimo  82.0  \n Asian-Pac-Islander  90.0  \n Black               90.0  \n Other               77.0  \n White               90.0  ,\n           count       mean        std   min   25%   50%   75%   max\n sex                                                                \n Female  10771.0  36.858230  14.013697  17.0  25.0  35.0  46.0  90.0\n Male    21790.0  39.433547  13.370630  17.0  29.0  38.0  48.0  90.0)"
     },
     "metadata": {},
     "execution_count": 45
    }
   ],
   "source": [
    "# 7 Display age statistics for each race (race feature) and each gender (sex feature). Use groupby() and describe(). Find the maximum age of men of Amer-Indian-Eskimo race.\n",
    "data.groupby('race')['age'].describe(), \\\n",
    "data.groupby('sex')['age'].describe()\n",
    "#maximum age = 82"
   ]
  },
  {
   "cell_type": "code",
   "execution_count": 46,
   "metadata": {},
   "outputs": [
    {
     "output_type": "execute_result",
     "data": {
      "text/plain": "Married-civ-spouse       14976\nNever-married            10683\nDivorced                  4443\nSeparated                 1025\nWidowed                    993\nMarried-spouse-absent      418\nMarried-AF-spouse           23\nName: marital-status, dtype: int64"
     },
     "metadata": {},
     "execution_count": 46
    }
   ],
   "source": [
    "# 8 Among whom is the proportion of those who earn a lot (>50K) greater: married or single men (marital-status feature)? Consider as married those who have a marital-status starting with Married (Married-civ-spouse, Married-spouse-absent or Married-AF-spouse), the rest are considered bachelors.\n",
    "data['marital-status'].value_counts()"
   ]
  },
  {
   "cell_type": "code",
   "execution_count": 47,
   "metadata": {},
   "outputs": [
    {
     "output_type": "stream",
     "name": "stdout",
     "text": "Married >50K -  5965\nNoMarried >50K -  697\n"
    },
    {
     "output_type": "execute_result",
     "data": {
      "text/plain": "col_0  697\nrow_0     \n5965    15",
      "text/html": "<div>\n<style scoped>\n    .dataframe tbody tr th:only-of-type {\n        vertical-align: middle;\n    }\n\n    .dataframe tbody tr th {\n        vertical-align: top;\n    }\n\n    .dataframe thead th {\n        text-align: right;\n    }\n</style>\n<table border=\"1\" class=\"dataframe\">\n  <thead>\n    <tr style=\"text-align: right;\">\n      <th>col_0</th>\n      <th>697</th>\n    </tr>\n    <tr>\n      <th>row_0</th>\n      <th></th>\n    </tr>\n  </thead>\n  <tbody>\n    <tr>\n      <td>5965</td>\n      <td>15</td>\n    </tr>\n  </tbody>\n</table>\n</div>"
     },
     "metadata": {},
     "execution_count": 47
    }
   ],
   "source": [
    "Married =  data[((data['marital-status'] == 'Married-AF-spouse') | (data['marital-status'] == 'Married-spouse-absent') | (data['marital-status'] == 'Married-civ-spouse')) & (data['salary'] == '>50K') & (data['sex'] == 'Male')].count()\n",
    "\n",
    "NoMarried = data[((data['marital-status'] == 'Divorced') | (data['marital-status'] == 'Separated') | (data['marital-status'] == 'Widowed') | (data['marital-status'] == 'Never-married')) & (data['salary'] == '>50K') & (data['sex'] == 'Male')].count()\n",
    "\n",
    "print('Married >50K - ', Married['sex'])\n",
    "print('NoMarried >50K - ', NoMarried['salary'])\n",
    "\n",
    "pd.crosstab(Married, NoMarried)"
   ]
  },
  {
   "cell_type": "code",
   "execution_count": 48,
   "metadata": {},
   "outputs": [
    {
     "output_type": "execute_result",
     "data": {
      "text/plain": "99"
     },
     "metadata": {},
     "execution_count": 48
    }
   ],
   "source": [
    "# 9 What is the maximum number of hours a person works per week (hours-per-week feature)? How many people work such a number of hours, and what is the percentage of those who earn a lot (>50K) among them?\n",
    "data['hours-per-week'].max()"
   ]
  },
  {
   "cell_type": "code",
   "execution_count": 49,
   "metadata": {},
   "outputs": [
    {
     "output_type": "execute_result",
     "data": {
      "text/plain": "age               85\nworkclass         85\nfnlwgt            85\neducation         85\neducation-num     85\nmarital-status    85\noccupation        85\nrelationship      85\nrace              85\nsex               85\ncapital-gain      85\ncapital-loss      85\nhours-per-week    85\nnative-country    85\nsalary            85\ndtype: int64"
     },
     "metadata": {},
     "execution_count": 49
    }
   ],
   "source": [
    "data[data['hours-per-week'] == 99].count()"
   ]
  },
  {
   "cell_type": "code",
   "execution_count": 50,
   "metadata": {},
   "outputs": [
    {
     "output_type": "execute_result",
     "data": {
      "text/plain": "age               25\nworkclass         25\nfnlwgt            25\neducation         25\neducation-num     25\nmarital-status    25\noccupation        25\nrelationship      25\nrace              25\nsex               25\ncapital-gain      25\ncapital-loss      25\nhours-per-week    25\nnative-country    25\nsalary            25\ndtype: int64"
     },
     "metadata": {},
     "execution_count": 50
    }
   ],
   "source": [
    "data[(data['hours-per-week'] == 99) & (data['salary'] == '>50K')].count()"
   ]
  },
  {
   "cell_type": "code",
   "execution_count": 51,
   "metadata": {},
   "outputs": [
    {
     "output_type": "stream",
     "name": "stdout",
     "text": "age               29.411765\nworkclass         29.411765\nfnlwgt            29.411765\neducation         29.411765\neducation-num     29.411765\nmarital-status    29.411765\noccupation        29.411765\nrelationship      29.411765\nrace              29.411765\nsex               29.411765\ncapital-gain      29.411765\ncapital-loss      29.411765\nhours-per-week    29.411765\nnative-country    29.411765\nsalary            29.411765\ndtype: float64\n"
    }
   ],
   "source": [
    "# in %:\n",
    "print(data[(data['hours-per-week'] == 99) & (data['salary'] == '>50K')].count() / data[data['hours-per-week'] == 99].count() * 100)"
   ]
  },
  {
   "cell_type": "code",
   "execution_count": 52,
   "metadata": {},
   "outputs": [
    {
     "output_type": "execute_result",
     "data": {
      "text/plain": "salary  native-country \n<=50K   ?                  40.164760\n        Cambodia           41.416667\n        Canada             37.914634\n        China              37.381818\n        Columbia           38.684211\n                             ...    \n>50K    Thailand           58.333333\n        Trinadad&Tobago    40.000000\n        United-States      45.505369\n        Vietnam            39.200000\n        Yugoslavia         49.500000\nName: hours-per-week, Length: 82, dtype: float64"
     },
     "metadata": {},
     "execution_count": 52
    }
   ],
   "source": [
    "# 10 Count the average time of work (hours-per-week) for those who earn a little and a lot (salary) for each country (native-country). What will these be for Japan?\n",
    "allCountries = data.groupby(['salary', 'native-country'])['hours-per-week'].mean()\n",
    "allCountries\n",
    ""
   ]
  },
  {
   "cell_type": "code",
   "execution_count": 53,
   "metadata": {},
   "outputs": [
    {
     "output_type": "execute_result",
     "data": {
      "text/plain": "salary  native-country\n<=50K   Japan             41.000000\n>50K    Japan             47.958333\nName: hours-per-week, dtype: float64"
     },
     "metadata": {},
     "execution_count": 53
    }
   ],
   "source": [
    "Japan = data[data['native-country'] == 'Japan'].groupby(['salary', 'native-country'])['hours-per-week'].mean()\n",
    "Japan"
   ]
  },
  {
   "cell_type": "code",
   "execution_count": 54,
   "metadata": {},
   "outputs": [],
   "source": [
    "# 11 Какой процент мужчин (от всех мужчин) и женщин (от всех женщин), работающих в государственных компаниях, получает >50K?  \n",
    "\n",
    "# 12Среди людей, получающих <=50K, какова медиана количества рабочих часов? А если посчитать отдельно по мужчинам и отдельно по женщинам? \n",
    "\n",
    "#13 Среди всех высокооплачиваемых людей (>50K) больше людей с высшим образованием, которые работают больше 50 часов в неделю и тех, кто не имеет высшего образование и работает не больше 50 часов в неделю? "
   ]
  },
  {
   "cell_type": "code",
   "execution_count": 55,
   "metadata": {},
   "outputs": [
    {
     "output_type": "execute_result",
     "data": {
      "text/plain": "        age  workclass  fnlwgt  education  education-num  marital-status  \\\nsex                                                                        \nFemale   68         68      68         68             68              68   \nMale    285        285     285        285            285             285   \n\n        occupation  relationship  race  capital-gain  capital-loss  \\\nsex                                                                  \nFemale          68            68    68            68            68   \nMale           285           285   285           285           285   \n\n        hours-per-week  native-country  salary  \nsex                                             \nFemale              68              68      68  \nMale               285             285     285  ",
      "text/html": "<div>\n<style scoped>\n    .dataframe tbody tr th:only-of-type {\n        vertical-align: middle;\n    }\n\n    .dataframe tbody tr th {\n        vertical-align: top;\n    }\n\n    .dataframe thead th {\n        text-align: right;\n    }\n</style>\n<table border=\"1\" class=\"dataframe\">\n  <thead>\n    <tr style=\"text-align: right;\">\n      <th></th>\n      <th>age</th>\n      <th>workclass</th>\n      <th>fnlwgt</th>\n      <th>education</th>\n      <th>education-num</th>\n      <th>marital-status</th>\n      <th>occupation</th>\n      <th>relationship</th>\n      <th>race</th>\n      <th>capital-gain</th>\n      <th>capital-loss</th>\n      <th>hours-per-week</th>\n      <th>native-country</th>\n      <th>salary</th>\n    </tr>\n    <tr>\n      <th>sex</th>\n      <th></th>\n      <th></th>\n      <th></th>\n      <th></th>\n      <th></th>\n      <th></th>\n      <th></th>\n      <th></th>\n      <th></th>\n      <th></th>\n      <th></th>\n      <th></th>\n      <th></th>\n      <th></th>\n    </tr>\n  </thead>\n  <tbody>\n    <tr>\n      <td>Female</td>\n      <td>68</td>\n      <td>68</td>\n      <td>68</td>\n      <td>68</td>\n      <td>68</td>\n      <td>68</td>\n      <td>68</td>\n      <td>68</td>\n      <td>68</td>\n      <td>68</td>\n      <td>68</td>\n      <td>68</td>\n      <td>68</td>\n      <td>68</td>\n    </tr>\n    <tr>\n      <td>Male</td>\n      <td>285</td>\n      <td>285</td>\n      <td>285</td>\n      <td>285</td>\n      <td>285</td>\n      <td>285</td>\n      <td>285</td>\n      <td>285</td>\n      <td>285</td>\n      <td>285</td>\n      <td>285</td>\n      <td>285</td>\n      <td>285</td>\n      <td>285</td>\n    </tr>\n  </tbody>\n</table>\n</div>"
     },
     "metadata": {},
     "execution_count": 55
    }
   ],
   "source": [
    "#11  - OTBET: 1.3%(Male) 0.63%(Female)\n",
    "Gov = data[(data['workclass']=='State-gov') & (data['salary']=='>50K')].groupby(['sex']).count()\n",
    "Gov"
   ]
  },
  {
   "cell_type": "code",
   "execution_count": 56,
   "metadata": {},
   "outputs": [],
   "source": [
    "All = data.groupby('sex').count()\n",
    "\n",
    "# All"
   ]
  },
  {
   "cell_type": "code",
   "execution_count": 57,
   "metadata": {},
   "outputs": [
    {
     "output_type": "execute_result",
     "data": {
      "text/plain": "             age  workclass    fnlwgt  education  education-num  \\\nsex                                                               \nFemale  0.631325   0.631325  0.631325   0.631325       0.631325   \nMale    1.307939   1.307939  1.307939   1.307939       1.307939   \n\n        marital-status  occupation  relationship      race  capital-gain  \\\nsex                                                                        \nFemale        0.631325    0.631325      0.631325  0.631325      0.631325   \nMale          1.307939    1.307939      1.307939  1.307939      1.307939   \n\n        capital-loss  hours-per-week  native-country    salary  \nsex                                                             \nFemale      0.631325        0.631325        0.631325  0.631325  \nMale        1.307939        1.307939        1.307939  1.307939  ",
      "text/html": "<div>\n<style scoped>\n    .dataframe tbody tr th:only-of-type {\n        vertical-align: middle;\n    }\n\n    .dataframe tbody tr th {\n        vertical-align: top;\n    }\n\n    .dataframe thead th {\n        text-align: right;\n    }\n</style>\n<table border=\"1\" class=\"dataframe\">\n  <thead>\n    <tr style=\"text-align: right;\">\n      <th></th>\n      <th>age</th>\n      <th>workclass</th>\n      <th>fnlwgt</th>\n      <th>education</th>\n      <th>education-num</th>\n      <th>marital-status</th>\n      <th>occupation</th>\n      <th>relationship</th>\n      <th>race</th>\n      <th>capital-gain</th>\n      <th>capital-loss</th>\n      <th>hours-per-week</th>\n      <th>native-country</th>\n      <th>salary</th>\n    </tr>\n    <tr>\n      <th>sex</th>\n      <th></th>\n      <th></th>\n      <th></th>\n      <th></th>\n      <th></th>\n      <th></th>\n      <th></th>\n      <th></th>\n      <th></th>\n      <th></th>\n      <th></th>\n      <th></th>\n      <th></th>\n      <th></th>\n    </tr>\n  </thead>\n  <tbody>\n    <tr>\n      <td>Female</td>\n      <td>0.631325</td>\n      <td>0.631325</td>\n      <td>0.631325</td>\n      <td>0.631325</td>\n      <td>0.631325</td>\n      <td>0.631325</td>\n      <td>0.631325</td>\n      <td>0.631325</td>\n      <td>0.631325</td>\n      <td>0.631325</td>\n      <td>0.631325</td>\n      <td>0.631325</td>\n      <td>0.631325</td>\n      <td>0.631325</td>\n    </tr>\n    <tr>\n      <td>Male</td>\n      <td>1.307939</td>\n      <td>1.307939</td>\n      <td>1.307939</td>\n      <td>1.307939</td>\n      <td>1.307939</td>\n      <td>1.307939</td>\n      <td>1.307939</td>\n      <td>1.307939</td>\n      <td>1.307939</td>\n      <td>1.307939</td>\n      <td>1.307939</td>\n      <td>1.307939</td>\n      <td>1.307939</td>\n      <td>1.307939</td>\n    </tr>\n  </tbody>\n</table>\n</div>"
     },
     "metadata": {},
     "execution_count": 57
    }
   ],
   "source": [
    "(Gov / All) * 100"
   ]
  },
  {
   "cell_type": "code",
   "execution_count": 58,
   "metadata": {},
   "outputs": [
    {
     "output_type": "execute_result",
     "data": {
      "text/plain": "sex\nFemale    40\nMale      40\nName: hours-per-week, dtype: int64"
     },
     "metadata": {},
     "execution_count": 58
    }
   ],
   "source": [
    "# 12 OTBET - 40.7(Male), 36(Female)\n",
    "data[data['salary'] == '<=50K'].groupby('sex')['hours-per-week'].median()"
   ]
  },
  {
   "cell_type": "code",
   "execution_count": 59,
   "metadata": {},
   "outputs": [
    {
     "output_type": "stream",
     "name": "stdout",
     "text": "OTBET - Da\n>50K: \nВсе -  7841 \nС высшим (>50 ч/неделю)-  296 \nБез высшего (<50 ч/неделю) 3866 \n\n"
    }
   ],
   "source": [
    "All = data[data['salary'] == '>50K']\n",
    "HighEdu = All[(data['education'] == 'HS-grad') & (data['hours-per-week'] > 50)]\n",
    "NoHighEdu = All[(data['education'] != 'HS-grad') & (data['hours-per-week'] < 50)]\n",
    "\n",
    "Answer =  All.count()/(HighEdu.count()+NoHighEdu.count())\n",
    "if 1 / Answer['age'] > .5:\n",
    "    print('OTBET - Da')\n",
    "else: \n",
    "    print('OTBET - Net')\n",
    "print(\n",
    "    '>50K: \\n'\n",
    "    'Все - ', All['age'].count(), '\\n'\n",
    "    'С высшим (>50 ч/неделю)- ', HighEdu['age'].count(), '\\n'\n",
    "    'Без высшего (<50 ч/неделю)', NoHighEdu['age'].count(), '\\n'   \n",
    " )\n",
    ""
   ]
  },
  {
   "cell_type": "code",
   "execution_count": 60,
   "metadata": {},
   "outputs": [
    {
     "output_type": "execute_result",
     "data": {
      "text/plain": "HS-grad         10501\nSome-college     7291\nBachelors        5355\nMasters          1723\nAssoc-voc        1382\n11th             1175\nAssoc-acdm       1067\n10th              933\n7th-8th           646\nProf-school       576\n9th               514\n12th              433\nDoctorate         413\n5th-6th           333\n1st-4th           168\nPreschool          51\nName: education, dtype: int64"
     },
     "metadata": {},
     "execution_count": 60
    }
   ],
   "source": [
    "data['education'].value_counts()"
   ]
  },
  {
   "cell_type": "code",
   "execution_count": null,
   "metadata": {},
   "outputs": [],
   "source": []
  }
 ]
}